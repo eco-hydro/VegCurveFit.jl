{
 "cells": [
  {
   "cell_type": "code",
   "execution_count": 2,
   "id": "92ea33dd-6fc9-4938-aa19-26b7156068b0",
   "metadata": {},
   "outputs": [],
   "source": [
    "using LinearAlgebra, SparseArrays\n",
    "using Symbolics\n",
    "\n",
    "@variables λ e_1 f_1 e_2 f_2 e_3 f_3 e_4 f_4 e_5 f_5 f_6;"
   ]
  },
  {
   "cell_type": "code",
   "execution_count": 3,
   "id": "a44f8bad-41c5-460c-b44e-c1f534c92ee1",
   "metadata": {},
   "outputs": [
    {
     "name": "stdout",
     "output_type": "stream",
     "text": [
      "L\n"
     ]
    },
    {
     "data": {
      "text/latex": [
       "$$ \\begin{equation}\n",
       "\\left[\n",
       "\\begin{array}{cccccc}\n",
       "1 & 0 & 0 & 0 & 0 & 0 \\\\\n",
       " - e_{1} & 1 & 0 & 0 & 0 & 0 \\\\\n",
       "f_{1} &  - e_{2} & 1 & 0 & 0 & 0 \\\\\n",
       "0 & f_{2} &  - e_{3} & 1 & 0 & 0 \\\\\n",
       "0 & 0 & f_{3} &  - e_{4} & 1 & 0 \\\\\n",
       "0 & 0 & 0 & f_{4} &  - e_{5} & 1 \\\\\n",
       "\\end{array}\n",
       "\\right]\n",
       "\\end{equation}\n",
       " $$"
      ],
      "text/plain": [
       "6×6 Matrix{Num}:\n",
       " 1     0     0     0     0     0\n",
       " -e_1  1     0     0     0     0\n",
       "  f_1  -e_2  1     0     0     0\n",
       " 0      f_2  -e_3  1     0     0\n",
       " 0     0      f_3  -e_4  1     0\n",
       " 0     0     0      f_4  -e_5  1"
      ]
     },
     "metadata": {},
     "output_type": "display_data"
    },
    {
     "data": {
      "text/latex": [
       "$$ \\begin{equation}\n",
       "\\left[\n",
       "\\begin{array}{cccccc}\n",
       "\\frac{1}{f_{1}} & 0 & 0 & 0 & 0 & 0 \\\\\n",
       "0 & \\frac{1}{f_{2}} & 0 & 0 & 0 & 0 \\\\\n",
       "0 & 0 & \\frac{1}{f_{3}} & 0 & 0 & 0 \\\\\n",
       "0 & 0 & 0 & \\frac{1}{f_{4}} & 0 & 0 \\\\\n",
       "0 & 0 & 0 & 0 & \\frac{1}{f_{5}} & 0 \\\\\n",
       "0 & 0 & 0 & 0 & 0 & \\frac{1}{f_{6}} \\\\\n",
       "\\end{array}\n",
       "\\right]\n",
       "\\end{equation}\n",
       " $$"
      ],
      "text/plain": [
       "6×6 Matrix{Num}:\n",
       " 1 / f_1     0        0        0        0        0\n",
       "    0     1 / f_2     0        0        0        0\n",
       "    0        0     1 / f_3     0        0        0\n",
       "    0        0        0     1 / f_4     0        0\n",
       "    0        0        0        0     1 / f_5     0\n",
       "    0        0        0        0        0     1 / f_6"
      ]
     },
     "execution_count": 3,
     "metadata": {},
     "output_type": "execute_result"
    }
   ],
   "source": [
    "L =[\n",
    "    1    0 0 0 0 0\n",
    "    -e_1  1 0 0 0 0\n",
    "    f_1 -e_2 1 0 0 0\n",
    "    0   f_2 -e_3 1 0 0\n",
    "    0   0 f_3 -e_4 1 0\n",
    "    0   0 0  f_4 -e_5 1\n",
    "    ]\n",
    "\n",
    "println(\"L\"); display(L)\n",
    "D = diagm([f_1, f_2, f_3, f_4, f_5, f_6])^-1"
   ]
  },
  {
   "cell_type": "code",
   "execution_count": 5,
   "id": "6cba1139-83f8-40eb-bf2e-69bdf19d3356",
   "metadata": {},
   "outputs": [
    {
     "data": {
      "text/latex": [
       "$$ \\begin{equation}\n",
       "\\left[\n",
       "\\begin{array}{cc}\n",
       "\\frac{\\theta_{1}}{f_{1}} & w_{1} \\\\\n",
       "\\frac{ - e_{1} \\theta_{1}}{f_{1}} + \\frac{\\theta_{2}}{f_{2}} & w_{2} \\\\\n",
       "\\frac{ - e_{2} \\theta_{2}}{f_{2}} + \\frac{\\theta_{3}}{f_{3}} + \\theta_{1} & w_{3} \\\\\n",
       "\\frac{ - e_{3} \\theta_{3}}{f_{3}} + \\frac{\\theta_{4}}{f_{4}} + \\theta_{2} & w_{4} \\\\\n",
       "\\frac{\\theta_{5}}{f_{5}} + \\frac{ - e_{4} \\theta_{4}}{f_{4}} + \\theta_{3} & w_{5} \\\\\n",
       "\\frac{ - e_{5} \\theta_{5}}{f_{5}} + \\frac{\\theta_{6}}{f_{6}} + \\theta_{4} & w_{6} \\\\\n",
       "\\end{array}\n",
       "\\right]\n",
       "\\end{equation}\n",
       " $$"
      ],
      "text/plain": [
       "6×2 Matrix{Num}:\n",
       " θ_1 / f_1                               w_1\n",
       "     (-e_1*θ_1) / f_1 + θ_2 / f_2        w_2\n",
       "     (-e_2*θ_2) / f_2 + θ_3 / f_3 + θ_1  w_3\n",
       "     (-e_3*θ_3) / f_3 + θ_4 / f_4 + θ_2  w_4\n",
       " θ_5 / f_5 + (-e_4*θ_4) / f_4 + θ_3      w_5\n",
       "     (-e_5*θ_5) / f_5 + θ_6 / f_6 + θ_4  w_6"
      ]
     },
     "execution_count": 5,
     "metadata": {},
     "output_type": "execute_result"
    }
   ],
   "source": [
    "@variables θ_1 θ_2 θ_3 θ_4 θ_5 θ_6\n",
    "@variables w_1 w_2 w_3 w_4 w_5 w_6\n",
    "θ = [θ_1 θ_2 θ_3 θ_4 θ_5 θ_6]'\n",
    "w = [w_1 w_2 w_3 w_4 w_5 w_6]'\n",
    "[L * D * θ w]"
   ]
  },
  {
   "cell_type": "markdown",
   "id": "cb7e310a-21d0-4443-b780-fc6d7d6ddabb",
   "metadata": {},
   "source": [
    "θ1 = f1 * w1\n",
    "θ2 = f2(w2 + θ1e1/f1)\n",
    "θ3 = f3(w3 + θ2e2/f2 - θ1 )\n"
   ]
  },
  {
   "cell_type": "code",
   "execution_count": 5,
   "id": "a9244286-51ca-4ddd-be35-733cae30a07f",
   "metadata": {},
   "outputs": [
    {
     "data": {
      "text/latex": [
       "$$ \\begin{equation}\n",
       "\\left[\n",
       "\\begin{array}{cccccc}\n",
       "\\frac{1}{f_{1}} & \\frac{ - e_{1}}{f_{1}} & 1 & 0 & 0 & 0 \\\\\n",
       "\\frac{ - e_{1}}{f_{1}} & \\frac{e_{1}^{2}}{f_{1}} + \\frac{1}{f_{2}} &  - e_{1} + \\frac{ - e_{2}}{f_{2}} & 1 & 0 & 0 \\\\\n",
       "1 &  - e_{1} + \\frac{ - e_{2}}{f_{2}} & f_{1} + \\frac{1}{f_{3}} + \\frac{e_{2}^{2}}{f_{2}} &  - e_{2} + \\frac{ - e_{3}}{f_{3}} & 1 & 0 \\\\\n",
       "0 & 1 &  - e_{2} + \\frac{ - e_{3}}{f_{3}} & f_{2} + \\frac{e_{3}^{2}}{f_{3}} + \\frac{1}{f_{4}} &  - e_{3} + \\frac{ - e_{4}}{f_{4}} & 1 \\\\\n",
       "0 & 0 & 1 &  - e_{3} + \\frac{ - e_{4}}{f_{4}} & f_{3} + \\frac{e_{4}^{2}}{f_{4}} + \\frac{1}{f_{5}} &  - e_{4} + \\frac{ - e_{5}}{f_{5}} \\\\\n",
       "0 & 0 & 0 & 1 &  - e_{4} + \\frac{ - e_{5}}{f_{5}} & f_{4} + \\frac{e_{5}^{2}}{f_{5}} + \\frac{1}{f_{6}} \\\\\n",
       "\\end{array}\n",
       "\\right]\n",
       "\\end{equation}\n",
       " $$"
      ],
      "text/plain": [
       "6×6 Matrix{Num}:\n",
       " 1 / f_1         (-e_1) / f_1              …  0\n",
       "   (-e_1) / f_1   (e_1^2) / f_1 + 1 / f_2     0\n",
       "    1             -e_1 + (-e_2) / f_2         0\n",
       "    0             1                           1\n",
       "    0             0                           -e_4 + (-e_5) / f_5\n",
       "    0             0                        …   f_4 + (e_5^2) / f_5 + 1 / f_6"
      ]
     },
     "execution_count": 5,
     "metadata": {},
     "output_type": "execute_result"
    }
   ],
   "source": [
    "A2 = L * D * L'"
   ]
  },
  {
   "cell_type": "markdown",
   "id": "36b9b1c0-01a8-4972-8a54-d94dcce51f17",
   "metadata": {},
   "source": [
    "## 先求出e, f, 然后根据w, 确定theta\n",
    "```julia\n",
    "let u_i = a_1 - e_i-1 # u_i 没必要存在\n",
    "\n",
    "-e1/f1 = a1\n",
    "e1 = a1 * f1\n",
    "f2 = 1/(a0 - e1^2/f1)\n",
    "\n",
    "-e2/f2 = e1 - a1\n",
    "e2 = -f2(-a1 + e1) = f2(a1 - e1) = f2 * u2\n",
    "\n",
    "f3 = 1/(a0 -e2^2/f2 - f1) (e2^2/f2 = u2 * e2,)\n",
    "\n",
    "-e3/f3 = -a1 + e2 \n",
    "e3 = f3 * (a1 - e2)\n",
    "```"
   ]
  },
  {
   "cell_type": "code",
   "execution_count": 12,
   "id": "21f525ef-8f71-4520-a205-46c0541e65c0",
   "metadata": {},
   "outputs": [
    {
     "data": {
      "text/latex": [
       "$$ \\begin{equation}\n",
       "\\left[\n",
       "\\begin{array}{cccccc}\n",
       "6 + \\frac{2}{3 \\lambda} & -4 + \\frac{1}{6} \\lambda & 1 & 0 & 0 & 0 \\\\\n",
       "-4 + \\frac{1}{6} \\lambda & 6 + \\frac{2}{3} \\lambda & -4 + \\frac{1}{6} \\lambda & 1 & 0 & 0 \\\\\n",
       "1 & -4 + \\frac{1}{6} \\lambda & 6 + \\frac{2}{3} \\lambda & -4 + \\frac{1}{6} \\lambda & 1 & 0 \\\\\n",
       "0 & 1 & -4 + \\frac{1}{6} \\lambda & 6 + \\frac{2}{3} \\lambda & -4 + \\frac{1}{6} \\lambda & 1 \\\\\n",
       "0 & 0 & 1 & -4 + \\frac{1}{6} \\lambda & 6 + \\frac{2}{3} \\lambda & -4 + \\frac{1}{6} \\lambda \\\\\n",
       "0 & 0 & 0 & 1 & -4 + \\frac{1}{6} \\lambda & 6 + \\frac{2}{3} \\lambda \\\\\n",
       "\\end{array}\n",
       "\\right]\n",
       "\\end{equation}\n",
       " $$"
      ],
      "text/plain": [
       "6×6 Matrix{Num}:\n",
       "  6 + 2 / (3λ)  -4 + (1//6)*λ              1  …              0              0\n",
       " -4 + (1//6)*λ   6 + (2//3)*λ  -4 + (1//6)*λ                 0              0\n",
       "             1  -4 + (1//6)*λ   6 + (2//3)*λ                 1              0\n",
       "             0              1  -4 + (1//6)*λ     -4 + (1//6)*λ              1\n",
       "             0              0              1      6 + (2//3)*λ  -4 + (1//6)*λ\n",
       "             0              0              0  …  -4 + (1//6)*λ   6 + (2//3)*λ"
      ]
     },
     "execution_count": 12,
     "metadata": {},
     "output_type": "execute_result"
    }
   ],
   "source": [
    "A = [\n",
    "    2/3λ+6 λ/6-4 1 0 0 0\n",
    "    λ/6-4 2λ/3+6 λ/6-4 1 0 0\n",
    "    1 λ/6-4 2λ/3+6 λ/6-4 1 0\n",
    "    0 1 λ/6-4 2λ/3+6 λ/6-4 1\n",
    "    0 0 1 λ/6-4 2λ/3+6 λ/6-4\n",
    "    0 0 0 1 λ/6-4 2λ/3+6\n",
    "]"
   ]
  },
  {
   "cell_type": "markdown",
   "id": "ff3b301e-c3b4-4e3f-b6cc-a6735fcdbd29",
   "metadata": {},
   "source": [
    "## second step\n",
    "$$\n",
    "L^T c = \\theta\n",
    "$$"
   ]
  },
  {
   "cell_type": "code",
   "execution_count": 23,
   "id": "fc25cae6-0089-461f-954a-1e65ddac8b6c",
   "metadata": {},
   "outputs": [
    {
     "data": {
      "text/latex": [
       "$$ \\begin{equation}\n",
       "\\left[\n",
       "\\begin{array}{cc}\n",
       "c_{1} - c_{2} e_{1} + c_{3} f_{1} & \\theta_{1} \\\\\n",
       "c_{2} - c_{3} e_{2} + c_{4} f_{2} & \\theta_{2} \\\\\n",
       "c_{3} - c_{4} e_{3} + c_{5} f_{3} & \\theta_{3} \\\\\n",
       "c_{4} - c_{5} e_{4} + c_{6} f_{4} & \\theta_{4} \\\\\n",
       "c_{5} - c_{6} e_{5} & \\theta_{5} \\\\\n",
       "c_{6} & \\theta_{6} \\\\\n",
       "\\end{array}\n",
       "\\right]\n",
       "\\end{equation}\n",
       " $$"
      ],
      "text/plain": [
       "6×2 Matrix{Num}:\n",
       " c_1 - c_2*e_1 + c_3*f_1  θ_1\n",
       " c_2 - c_3*e_2 + c_4*f_2  θ_2\n",
       " c_3 - c_4*e_3 + c_5*f_3  θ_3\n",
       " c_4 - c_5*e_4 + c_6*f_4  θ_4\n",
       " c_5 - c_6*e_5            θ_5\n",
       "        c_6               θ_6"
      ]
     },
     "execution_count": 23,
     "metadata": {},
     "output_type": "execute_result"
    }
   ],
   "source": [
    "@variables c_1 c_2 c_3 c_4 c_5 c_6\n",
    "c = [c_1 c_2 c_3 c_4 c_5 c_6]'\n",
    "\n",
    "[L' * c θ]\n"
   ]
  }
 ],
 "metadata": {
  "kernelspec": {
   "display_name": "Julia 1.10.3",
   "language": "julia",
   "name": "julia-1.10"
  },
  "language_info": {
   "file_extension": ".jl",
   "mimetype": "application/julia",
   "name": "julia",
   "version": "1.10.3"
  }
 },
 "nbformat": 4,
 "nbformat_minor": 5
}
