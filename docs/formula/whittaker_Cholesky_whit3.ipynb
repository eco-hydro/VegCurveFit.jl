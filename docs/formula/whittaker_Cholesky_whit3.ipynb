{
 "cells": [
  {
   "cell_type": "code",
   "execution_count": 64,
   "id": "cd3c38ac-780c-4e99-9e4f-7c26c3d1cf6d",
   "metadata": {},
   "outputs": [],
   "source": [
    "# 这里是whittaker 3阶向量求解过程\n",
    "include(\"main_whit.jl\")\n",
    "\n",
    "using SymbolicUtils"
   ]
  },
  {
   "cell_type": "code",
   "execution_count": 74,
   "id": "a2c429bc-be39-41e5-a7a0-31ce5e4e0439",
   "metadata": {},
   "outputs": [
    {
     "data": {
      "text/latex": [
       "$$ \\begin{equation}\n",
       "\\left[\n",
       "\\begin{array}{ccc}\n",
       "c_1 & e_1 & f_1 \\\\\n",
       "c_2 & e_2 & f_2 \\\\\n",
       "c_3 & e_3 & f_3 \\\\\n",
       "c_4 & e_4 & f_4 \\\\\n",
       "c_5 & e_5 & f_5 \\\\\n",
       "\\end{array}\n",
       "\\right]\n",
       "\\end{equation}\n",
       " $$"
      ],
      "text/plain": [
       "5×3 Matrix{Num}:\n",
       " c[1]  e[1]  f[1]\n",
       " c[2]  e[2]  f[2]\n",
       " c[3]  e[3]  f[3]\n",
       " c[4]  e[4]  f[4]\n",
       " c[5]  e[5]  f[5]"
      ]
     },
     "metadata": {},
     "output_type": "display_data"
    }
   ],
   "source": [
    "include(\"whit3_hat.jl\")\n",
    "\n",
    "n = 5\n",
    "@variables λ \n",
    "\n",
    "@variables d[1:n]\n",
    "D = diag_m(d)\n",
    "\n",
    "@variables c[1:n]\n",
    "@variables e[1:n]\n",
    "@variables f[1:n]\n",
    "\n",
    "z = variables(:z, 1:n)\n",
    "w = variables(:w, 1:n)\n",
    "y = variables(:y, 1:n)\n",
    "θ = variables(:θ, 1:n)\n",
    "\n",
    "U = def_U(c, e, f)\n",
    "U2 = hcat(c, e, f)\n",
    "# U = def_U(c, e)\n",
    "# L = U'\n",
    "# x = inv(L)\n",
    "# H = x' * inv(D) * x\n",
    "# H\n",
    "# diag(H)"
   ]
  },
  {
   "cell_type": "code",
   "execution_count": 60,
   "id": "35d27b6c",
   "metadata": {},
   "outputs": [
    {
     "data": {
      "text/latex": [
       "$$ \\begin{equation}\n",
       "\\left[\n",
       "\\begin{array}{ccccc}\n",
       "d_1 & 0 & 0 & 0 & 0 \\\\\n",
       " - c_1 d_2 & d_2 & 0 & 0 & 0 \\\\\n",
       "\\left(  - e_1 + c_1 c_2 \\right) d_3 &  - c_2 d_3 & d_3 & 0 & 0 \\\\\n",
       "\\left(  - f_1 + c_3 e_1 - c_1 \\left(  - e_2 + c_2 c_3 \\right) \\right) d_4 & \\left(  - e_2 + c_2 c_3 \\right) d_4 &  - c_3 d_4 & d_4 & 0 \\\\\n",
       "\\left( c_4 f_1 - \\left(  - e_3 + c_3 c_4 \\right) e_1 + c_1 \\left( f_2 - c_4 e_2 + c_2 \\left(  - e_3 + c_3 c_4 \\right) \\right) \\right) d_5 & \\left(  - f_2 + c_4 e_2 - c_2 \\left(  - e_3 + c_3 c_4 \\right) \\right) d_5 & \\left(  - e_3 + c_3 c_4 \\right) d_5 &  - c_4 d_5 & d_5 \\\\\n",
       "\\end{array}\n",
       "\\right]\n",
       "\\end{equation}\n",
       " $$"
      ],
      "text/plain": [
       "5×5 Matrix{Num}:\n",
       "       d[1]                                                                                            …           0.0     0.0\n",
       " -c[1]*d[2]                                                                                                        0.0     0.0\n",
       "         (-e[1] + c[1]*c[2])*d[3]                                                                                  0.0     0.0\n",
       "         (-f[1] + c[3]*e[1] - c[1]*(-e[2] + c[2]*c[3]))*d[4]                                                    d[4]       0.0\n",
       "     (c[4]*f[1] - (-e[3] + c[3]*c[4])*e[1] + c[1]*(f[2] - c[4]*e[2] + c[2]*(-e[3] + c[3]*c[4])))*d[5]     -c[4]*d[5]    d[5]"
      ]
     },
     "metadata": {},
     "output_type": "display_data"
    }
   ],
   "source": [
    "D * (U^-1)'"
   ]
  },
  {
   "cell_type": "code",
   "execution_count": 76,
   "id": "3f4e1d0e",
   "metadata": {},
   "outputs": [
    {
     "data": {
      "text/latex": [
       "$$ \\begin{equation}\n",
       "\\left[\n",
       "\\begin{array}{c}\n",
       "0 \\\\\n",
       "0 \\\\\n",
       "0 \\\\\n",
       "0 \\\\\n",
       "0 \\\\\n",
       "\\end{array}\n",
       "\\right]\n",
       "\\end{equation}\n",
       " $$"
      ],
      "text/plain": [
       "5-element Vector{Num}:\n",
       " 0\n",
       " 0\n",
       " 0\n",
       " 0\n",
       " 0"
      ]
     },
     "metadata": {},
     "output_type": "display_data"
    }
   ],
   "source": [
    "# 成功推导\n",
    "s = cal_diag(U2, d; m=3)\n",
    "s_full = cal_diag_full(U, d; m=3)\n",
    "s - s_full # \n",
    "# s\n"
   ]
  },
  {
   "cell_type": "code",
   "execution_count": 113,
   "id": "b835c8ad",
   "metadata": {},
   "outputs": [
    {
     "data": {
      "text/latex": [
       "$$ \\begin{equation}\n",
       "\\left[\n",
       "\\begin{array}{ccccc}\n",
       "1 & 0 & 0 & 0 & 0 \\\\\n",
       " - c_1 & 1 & 0 & 0 & 0 \\\\\n",
       " - e_1 + c_1 c_2 &  - c_2 & 1 & 0 & 0 \\\\\n",
       "c_3 e_1 - c_1 \\left(  - e_2 + c_2 c_3 \\right) &  - e_2 + c_2 c_3 &  - c_3 & 1 & 0 \\\\\n",
       " - \\left(  - e_3 + c_3 c_4 \\right) e_1 + c_1 \\left(  - c_4 e_2 + c_2 \\left(  - e_3 + c_3 c_4 \\right) \\right) & c_4 e_2 - c_2 \\left(  - e_3 + c_3 c_4 \\right) &  - e_3 + c_3 c_4 &  - c_4 & 1 \\\\\n",
       "\\end{array}\n",
       "\\right]\n",
       "\\end{equation}\n",
       " $$"
      ],
      "text/plain": [
       "5×5 Matrix{Num}:\n",
       "     1                                                                       …      0                      0  0\n",
       " -c[1]                                                                              0                      0  0\n",
       "     -e[1] + c[1]*c[2]                                                              1                      0  0\n",
       " c[3]*e[1] - c[1]*(-e[2] + c[2]*c[3])                                           -c[3]                      1  0\n",
       "   -(-e[3] + c[3]*c[4])*e[1] + c[1]*(-c[4]*e[2] + c[2]*(-e[3] + c[3]*c[4]))         -e[3] + c[3]*c[4]  -c[4]  1"
      ]
     },
     "metadata": {},
     "output_type": "display_data"
    }
   ],
   "source": [
    "complement(L)"
   ]
  },
  {
   "cell_type": "code",
   "execution_count": 124,
   "id": "37149752",
   "metadata": {},
   "outputs": [
    {
     "data": {
      "text/latex": [
       "$$ \\begin{equation}\n",
       "\\left[\n",
       "\\begin{array}{c}\n",
       "\\frac{a_{7}ˏ_1^{2}}{d_7} + \\frac{a_{2}ˏ_1^{2}}{d_2} + \\frac{a_{4}ˏ_1^{2}}{d_4} + \\frac{a_{3}ˏ_1^{2}}{d_3} + \\frac{1}{d_1} + \\frac{a_{6}ˏ_1^{2}}{d_6} + \\frac{a_{5}ˏ_1^{2}}{d_5} \\\\\n",
       "\\frac{a_{5}ˏ_2^{2}}{d_5} + \\frac{a_{6}ˏ_2^{2}}{d_6} + \\frac{a_{4}ˏ_2^{2}}{d_4} + \\frac{1}{d_2} + \\frac{a_{7}ˏ_2^{2}}{d_7} + \\frac{a_{3}ˏ_2^{2}}{d_3} \\\\\n",
       "\\frac{1}{d_3} + \\frac{a_{5}ˏ_3^{2}}{d_5} + \\frac{a_{6}ˏ_3^{2}}{d_6} + \\frac{a_{7}ˏ_3^{2}}{d_7} + \\frac{a_{4}ˏ_3^{2}}{d_4} \\\\\n",
       "\\frac{a_{6}ˏ_4^{2}}{d_6} + \\frac{a_{5}ˏ_4^{2}}{d_5} + \\frac{1}{d_4} + \\frac{a_{7}ˏ_4^{2}}{d_7} \\\\\n",
       "\\frac{1}{d_5} + \\frac{a_{7}ˏ_5^{2}}{d_7} + \\frac{a_{6}ˏ_5^{2}}{d_6} \\\\\n",
       "\\frac{1}{d_6} + \\frac{a_{7}ˏ_6^{2}}{d_7} \\\\\n",
       "\\frac{1}{d_7} \\\\\n",
       "\\end{array}\n",
       "\\right]\n",
       "\\end{equation}\n",
       " $$"
      ],
      "text/plain": [
       "7-element Vector{Num}:\n",
       " (a₇ˏ₁^2) / d[7] + (a₂ˏ₁^2) / d[2] + (a₄ˏ₁^2) / d[4] + (a₃ˏ₁^2) / d[3] + 1 / d[1] + (a₆ˏ₁^2) / d[6] + (a₅ˏ₁^2) / d[5]\n",
       "                   (a₅ˏ₂^2) / d[5] + (a₆ˏ₂^2) / d[6] + (a₄ˏ₂^2) / d[4] + 1 / d[2] + (a₇ˏ₂^2) / d[7] + (a₃ˏ₂^2) / d[3]\n",
       "                                     1 / d[3] + (a₅ˏ₃^2) / d[5] + (a₆ˏ₃^2) / d[6] + (a₇ˏ₃^2) / d[7] + (a₄ˏ₃^2) / d[4]\n",
       "                                                       (a₆ˏ₄^2) / d[6] + (a₅ˏ₄^2) / d[5] + 1 / d[4] + (a₇ˏ₄^2) / d[7]\n",
       "                                                                         1 / d[5] + (a₇ˏ₅^2) / d[7] + (a₆ˏ₅^2) / d[6]\n",
       "                                                                                           1 / d[6] + (a₇ˏ₆^2) / d[7]\n",
       "                                                                                                             1 / d[7]"
      ]
     },
     "metadata": {},
     "output_type": "display_data"
    },
    {
     "data": {
      "text/latex": [
       "$$ \\begin{equation}\n",
       "\\left[\n",
       "\\begin{array}{c}\n",
       "\\frac{a_{7}ˏ_1^{2}}{d_7} + \\frac{a_{2}ˏ_1^{2}}{d_2} + \\frac{a_{4}ˏ_1^{2}}{d_4} + \\frac{a_{3}ˏ_1^{2}}{d_3} + \\frac{1}{d_1} + \\frac{a_{6}ˏ_1^{2}}{d_6} + \\frac{a_{5}ˏ_1^{2}}{d_5} \\\\\n",
       "\\frac{a_{5}ˏ_2^{2}}{d_5} + \\frac{a_{6}ˏ_2^{2}}{d_6} + \\frac{a_{4}ˏ_2^{2}}{d_4} + \\frac{1}{d_2} + \\frac{a_{7}ˏ_2^{2}}{d_7} + \\frac{a_{3}ˏ_2^{2}}{d_3} \\\\\n",
       "\\frac{1}{d_3} + \\frac{a_{5}ˏ_3^{2}}{d_5} + \\frac{a_{6}ˏ_3^{2}}{d_6} + \\frac{a_{7}ˏ_3^{2}}{d_7} + \\frac{a_{4}ˏ_3^{2}}{d_4} \\\\\n",
       "\\frac{a_{6}ˏ_4^{2}}{d_6} + \\frac{a_{5}ˏ_4^{2}}{d_5} + \\frac{1}{d_4} + \\frac{a_{7}ˏ_4^{2}}{d_7} \\\\\n",
       "\\frac{1}{d_5} + \\frac{a_{7}ˏ_5^{2}}{d_7} + \\frac{a_{6}ˏ_5^{2}}{d_6} \\\\\n",
       "\\frac{1}{d_6} + \\frac{a_{7}ˏ_6^{2}}{d_7} \\\\\n",
       "\\frac{1}{d_7} \\\\\n",
       "\\end{array}\n",
       "\\right]\n",
       "\\end{equation}\n",
       " $$"
      ],
      "text/plain": [
       "7-element Vector{Num}:\n",
       " (a₇ˏ₁^2) / d[7] + (a₂ˏ₁^2) / d[2] + (a₄ˏ₁^2) / d[4] + (a₃ˏ₁^2) / d[3] + 1 / d[1] + (a₆ˏ₁^2) / d[6] + (a₅ˏ₁^2) / d[5]\n",
       "                   (a₅ˏ₂^2) / d[5] + (a₆ˏ₂^2) / d[6] + (a₄ˏ₂^2) / d[4] + 1 / d[2] + (a₇ˏ₂^2) / d[7] + (a₃ˏ₂^2) / d[3]\n",
       "                                     1 / d[3] + (a₅ˏ₃^2) / d[5] + (a₆ˏ₃^2) / d[6] + (a₇ˏ₃^2) / d[7] + (a₄ˏ₃^2) / d[4]\n",
       "                                                       (a₆ˏ₄^2) / d[6] + (a₅ˏ₄^2) / d[5] + 1 / d[4] + (a₇ˏ₄^2) / d[7]\n",
       "                                                                         1 / d[5] + (a₇ˏ₅^2) / d[7] + (a₆ˏ₅^2) / d[6]\n",
       "                                                                                           1 / d[6] + (a₇ˏ₆^2) / d[7]\n",
       "                                                                                                             1 / d[7]"
      ]
     },
     "metadata": {},
     "output_type": "display_data"
    }
   ],
   "source": [
    "## 定义一个三角矩阵\n",
    "n = 7\n",
    "\n",
    "@variables d[1:n]\n",
    "h = variables(:h, 1:n)\n",
    "# D = diag_m(d)\n",
    "\n",
    "A = variables(:a, 1:n, 1:n)\n",
    "for i = 1:n, j=i:n\n",
    "  A[i, j] = i == j ? 1 : 0\n",
    "end\n",
    "A\n",
    "# (L L')^-1 = L^-1' * L^-1\n",
    "H = A' * inv(D) * A\n",
    "display(diag(H))\n",
    "\n",
    "# 现在找到了解法，然后是如何把结果填进去\n",
    "for i = 1:n\n",
    "  h[i] = 0\n",
    "  len = n - i + 1\n",
    "  for j = n:-1:n-len+1\n",
    "    h[i] += A[j, i]^2 / d[j]\n",
    "  end\n",
    "end\n",
    "h\n",
    "# h - diag(H)"
   ]
  },
  {
   "cell_type": "code",
   "execution_count": null,
   "id": "55d2472d",
   "metadata": {},
   "outputs": [],
   "source": [
    "# # Compute diagonal of inverse\n",
    "s0[n] = 1 / d[n]\n",
    "s0[n-1] = 1 / d[n-1] + c[n-1]^2 * s0[n]\n",
    "s1[n-1] = -c[n-1] * s0[n]\n",
    "\n",
    "@inbounds @fastmath for i = n-2:-1:1\n",
    "  s1[i] = -c[i] * s0[i+1] - e[i] * s1[i+1]\n",
    "  s2[i] = -c[i] * s1[i+1] - e[i] * s0[i+2]\n",
    "\n",
    "  # s0[i] = 1 / d[i] -\n",
    "  #         c[i] * (-c[i] * s0[i+1] - e[i] * s1[i+1]) -\n",
    "  #         e[i] * (-c[i] * s1[i+1] - e[i] * s0[i+2])\n",
    "  s0[i] = 1 / d[i] + c[i]^2 * s0[i+1] + 2c[i] * e[i] * s1[i+1] + e[i]^2 * s0[i+2]\n",
    "end"
   ]
  },
  {
   "cell_type": "code",
   "execution_count": 50,
   "id": "2ea4def7",
   "metadata": {},
   "outputs": [
    {
     "data": {
      "text/latex": [
       "$$ \\begin{equation}\n",
       "\\left[\n",
       "\\begin{array}{c}\n",
       " - \\left(  - \\left( \\frac{c_4 e_3}{d_5} - c_3 \\left( \\frac{1}{d_4} + \\frac{c_4^{2}}{d_5} \\right) \\right) e_2 - c_2 \\left( \\frac{1}{d_3} - e_3 \\left( \\frac{ - e_3}{d_5} + \\frac{c_3 c_4}{d_5} \\right) - c_3 \\left( \\frac{c_4 e_3}{d_5} - c_3 \\left( \\frac{1}{d_4} + \\frac{c_4^{2}}{d_5} \\right) \\right) \\right) \\right) e_1 - c_1 \\left( \\frac{1}{d_2} - \\left(  - e_2 \\left( \\frac{1}{d_4} + \\frac{c_4^{2}}{d_5} \\right) - c_2 \\left( \\frac{c_4 e_3}{d_5} - c_3 \\left( \\frac{1}{d_4} + \\frac{c_4^{2}}{d_5} \\right) \\right) \\right) e_2 - c_2 \\left(  - \\left( \\frac{c_4 e_3}{d_5} - c_3 \\left( \\frac{1}{d_4} + \\frac{c_4^{2}}{d_5} \\right) \\right) e_2 - c_2 \\left( \\frac{1}{d_3} - e_3 \\left( \\frac{ - e_3}{d_5} + \\frac{c_3 c_4}{d_5} \\right) - c_3 \\left( \\frac{c_4 e_3}{d_5} - c_3 \\left( \\frac{1}{d_4} + \\frac{c_4^{2}}{d_5} \\right) \\right) \\right) \\right) \\right) \\\\\n",
       " - \\left( \\frac{c_4 e_3}{d_5} - c_3 \\left( \\frac{1}{d_4} + \\frac{c_4^{2}}{d_5} \\right) \\right) e_2 - c_2 \\left( \\frac{1}{d_3} - e_3 \\left( \\frac{ - e_3}{d_5} + \\frac{c_3 c_4}{d_5} \\right) - c_3 \\left( \\frac{c_4 e_3}{d_5} - c_3 \\left( \\frac{1}{d_4} + \\frac{c_4^{2}}{d_5} \\right) \\right) \\right) \\\\\n",
       "\\frac{c_4 e_3}{d_5} - c_3 \\left( \\frac{1}{d_4} + \\frac{c_4^{2}}{d_5} \\right) \\\\\n",
       "\\frac{ - c_4}{d_5} \\\\\n",
       "s1_5 \\\\\n",
       "\\end{array}\n",
       "\\right]\n",
       "\\end{equation}\n",
       " $$"
      ],
      "text/plain": [
       "5-element Vector{Num}:\n",
       "   -(-((c₄*e₃) / d₅ - c₃*(1 / d₄ + (c₄^2) / d₅))*e₂ - c₂*(1 / d₃ - e₃*((-e₃) / d₅ + (c₃*c₄) / d₅) - c₃*((c₄*e₃) / d₅ - c₃*(1 / d₄ + (c₄^2) / d₅))))*e₁ - c₁*(1 / d₂ - (-e₂*(1 / d₄ + (c₄^2) / d₅) - c₂*((c₄*e₃) / d₅ - c₃*(1 / d₄ + (c₄^2) / d₅)))*e₂ - c₂*(-((c₄*e₃) / d₅ - c₃*(1 / d₄ + (c₄^2) / d₅))*e₂ - c₂*(1 / d₃ - e₃*((-e₃) / d₅ + (c₃*c₄) / d₅) - c₃*((c₄*e₃) / d₅ - c₃*(1 / d₄ + (c₄^2) / d₅)))))\n",
       "     -((c₄*e₃) / d₅ - c₃*(1 / d₄ + (c₄^2) / d₅))*e₂ - c₂*(1 / d₃ - e₃*((-e₃) / d₅ + (c₃*c₄) / d₅) - c₃*((c₄*e₃) / d₅ - c₃*(1 / d₄ + (c₄^2) / d₅)))\n",
       "       (c₄*e₃) / d₅ - c₃*(1 / d₄ + (c₄^2) / d₅)\n",
       " (-c₄) / d₅\n",
       "        s1₅"
      ]
     },
     "metadata": {},
     "output_type": "display_data"
    }
   ],
   "source": [
    "d = variables(:d, 1:n)\n",
    "c = variables(:c, 1:n)\n",
    "e = variables(:e, 1:n)\n",
    "f = variables(:f, 1:n)\n",
    "\n",
    "# h = variables(:h, 1:n)\n",
    "s0 = variables(:s0, 1:n)\n",
    "s1 = variables(:s1, 1:n)\n",
    "s2 = variables(:s2, 1:n)\n",
    "\n",
    "s0[n] = 1 / d[n]\n",
    "s0[n-1] = 1 / d[n-1] + c[n-1]^2 * s0[n]\n",
    "s1[n-1] = -c[n-1] * s0[n]\n",
    "\n",
    "@inbounds @fastmath for i = n-2:-1:1\n",
    "  s1[i] = -c[i] * s0[i+1] - e[i] * s1[i+1]\n",
    "  s2[i] = -c[i] * s1[i+1] - e[i] * s0[i+2]\n",
    "  s0[i] = 1 / d[i] - c[i] * s1[i] - e[i] * s2[i]\n",
    "end\n",
    "\n",
    "s1"
   ]
  },
  {
   "cell_type": "code",
   "execution_count": 45,
   "id": "978e9891-eeff-419f-9a0a-1532275e7b42",
   "metadata": {},
   "outputs": [
    {
     "data": {
      "text/latex": [
       "$$ \\begin{equation}\n",
       "\\left[\n",
       "\\begin{array}{c}\n",
       "c_4 f_1 - \\left(  - e_3 + c_3 c_4 \\right) e_1 - c_1 \\left(  - f_2 + c_4 e_2 - c_2 \\left(  - e_3 + c_3 c_4 \\right) \\right) \\\\\n",
       " - f_2 + c_4 e_2 - c_2 \\left(  - e_3 + c_3 c_4 \\right) \\\\\n",
       " - e_3 + c_3 c_4 \\\\\n",
       " - c_4 \\\\\n",
       "1 \\\\\n",
       "\\end{array}\n",
       "\\right]\n",
       "\\end{equation}\n",
       " $$"
      ],
      "text/plain": [
       "5-element Vector{Num}:\n",
       " c₄*f₁ - (-e₃ + c₃*c₄)*e₁ - c₁*(-f₂ + c₄*e₂ - c₂*(-e₃ + c₃*c₄))\n",
       "   -f₂ + c₄*e₂ - c₂*(-e₃ + c₃*c₄)\n",
       "   -e₃ + c₃*c₄\n",
       " -c₄\n",
       "   1"
      ]
     },
     "metadata": {},
     "output_type": "display_data"
    }
   ],
   "source": [
    "## 设计一套求解的算法\n",
    "# @variables h[1:n]\n",
    "h = variables(:h, 1:n)\n",
    "s = variables(:s, 1:n)\n",
    "\n",
    "h[n] = 1\n",
    "h[n-1] = -c[n-1]\n",
    "h[n-2] = -e[n-2] * h[n] - c[n-2] * h[n-1]\n",
    "@inbounds for i = n-3:-1:1\n",
    "  h[i] = -f[i] * h[i+3] - e[i] * h[i+2] - c[i] * h[i+1]\n",
    "end\n",
    "h\n",
    "\n",
    "# function cal_diag!(s::V, h::V, d::V) where {V<:AbstractVector{<:Real}}\n",
    "#   n = length(d)\n",
    "s[n] = h[1]^2 / d[n]\n",
    "s[n-1] = h[2]^2 / d[n] + h[1] / d[n-1]\n",
    "\n",
    "@inbounds for k = n:-1:1\n",
    "  s[k] = 0.0\n",
    "  for (i, j) in zip(k:n, n:-1:k)\n",
    "    s[k] += h[i]^2 / d[j]\n",
    "  end\n",
    "end\n",
    "# s\n",
    "h\n",
    "# s - diag(H)\n",
    "# s\n",
    "# end"
   ]
  },
  {
   "cell_type": "code",
   "execution_count": 37,
   "id": "95234236-46a3-4346-9576-c27ff284868f",
   "metadata": {},
   "outputs": [],
   "source": [
    "# H = inv(L * D * L')\n",
    "# diag(H)"
   ]
  },
  {
   "cell_type": "code",
   "execution_count": 17,
   "id": "e34b6b09-f606-4d4c-9629-2ba664330115",
   "metadata": {},
   "outputs": [
    {
     "data": {
      "text/latex": [
       "$$ \\begin{equation}\n",
       "\\left[\n",
       "\\begin{array}{c}\n",
       "y_1 \\\\\n",
       "y_2 - c_1 y_1 \\\\\n",
       "y_3 - e_1 y_1 - \\left( y_2 - c_1 y_1 \\right) c_2 \\\\\n",
       "y_4 - f_1 y_1 - \\left( y_2 - c_1 y_1 \\right) e_2 - \\left( y_3 - e_1 y_1 - \\left( y_2 - c_1 y_1 \\right) c_2 \\right) c_3 \\\\\n",
       "y_5 - \\left( y_2 - c_1 y_1 \\right) f_2 - \\left( y_3 - e_1 y_1 - \\left( y_2 - c_1 y_1 \\right) c_2 \\right) e_3 - \\left( y_4 - f_1 y_1 - \\left( y_2 - c_1 y_1 \\right) e_2 - \\left( y_3 - e_1 y_1 - \\left( y_2 - c_1 y_1 \\right) c_2 \\right) c_3 \\right) c_4 \\\\\n",
       "y_6 - \\left( y_3 - e_1 y_1 - \\left( y_2 - c_1 y_1 \\right) c_2 \\right) f_3 - \\left( y_4 - f_1 y_1 - \\left( y_2 - c_1 y_1 \\right) e_2 - \\left( y_3 - e_1 y_1 - \\left( y_2 - c_1 y_1 \\right) c_2 \\right) c_3 \\right) e_4 - \\left( y_5 - \\left( y_2 - c_1 y_1 \\right) f_2 - \\left( y_3 - e_1 y_1 - \\left( y_2 - c_1 y_1 \\right) c_2 \\right) e_3 - \\left( y_4 - f_1 y_1 - \\left( y_2 - c_1 y_1 \\right) e_2 - \\left( y_3 - e_1 y_1 - \\left( y_2 - c_1 y_1 \\right) c_2 \\right) c_3 \\right) c_4 \\right) c_5 \\\\\n",
       "y_7 - \\left( y_4 - f_1 y_1 - \\left( y_2 - c_1 y_1 \\right) e_2 - \\left( y_3 - e_1 y_1 - \\left( y_2 - c_1 y_1 \\right) c_2 \\right) c_3 \\right) f_4 - \\left( y_5 - \\left( y_2 - c_1 y_1 \\right) f_2 - \\left( y_3 - e_1 y_1 - \\left( y_2 - c_1 y_1 \\right) c_2 \\right) e_3 - \\left( y_4 - f_1 y_1 - \\left( y_2 - c_1 y_1 \\right) e_2 - \\left( y_3 - e_1 y_1 - \\left( y_2 - c_1 y_1 \\right) c_2 \\right) c_3 \\right) c_4 \\right) e_5 - \\left( y_6 - \\left( y_3 - e_1 y_1 - \\left( y_2 - c_1 y_1 \\right) c_2 \\right) f_3 - \\left( y_4 - f_1 y_1 - \\left( y_2 - c_1 y_1 \\right) e_2 - \\left( y_3 - e_1 y_1 - \\left( y_2 - c_1 y_1 \\right) c_2 \\right) c_3 \\right) e_4 - \\left( y_5 - \\left( y_2 - c_1 y_1 \\right) f_2 - \\left( y_3 - e_1 y_1 - \\left( y_2 - c_1 y_1 \\right) c_2 \\right) e_3 - \\left( y_4 - f_1 y_1 - \\left( y_2 - c_1 y_1 \\right) e_2 - \\left( y_3 - e_1 y_1 - \\left( y_2 - c_1 y_1 \\right) c_2 \\right) c_3 \\right) c_4 \\right) c_5 \\right) c_6 \\\\\n",
       "\\end{array}\n",
       "\\right]\n",
       "\\end{equation}\n",
       " $$"
      ],
      "text/plain": [
       "7-element Vector{Num}:\n",
       "                   y₁\n",
       "         y₂ - c[1]*y₁\n",
       "                y₃ - e[1]*y₁ - (y₂ - c[1]*y₁)*c[2]\n",
       "                y₄ - f[1]*y₁ - (y₂ - c[1]*y₁)*e[2] - (y₃ - e[1]*y₁ - (y₂ - c[1]*y₁)*c[2])*c[3]\n",
       " y₅ - (y₂ - c[1]*y₁)*f[2] - (y₃ - e[1]*y₁ - (y₂ - c[1]*y₁)*c[2])*e[3] - (y₄ - f[1]*y₁ - (y₂ - c[1]*y₁)*e[2] - (y₃ - e[1]*y₁ - (y₂ - c[1]*y₁)*c[2])*c[3])*c[4]\n",
       "          y₆ - (y₃ - e[1]*y₁ - (y₂ - c[1]*y₁)*c[2])*f[3] - (y₄ - f[1]*y₁ - (y₂ - c[1]*y₁)*e[2] - (y₃ - e[1]*y₁ - (y₂ - c[1]*y₁)*c[2])*c[3])*e[4] - (y₅ - (y₂ - c[1]*y₁)*f[2] - (y₃ - e[1]*y₁ - (y₂ - c[1]*y₁)*c[2])*e[3] - (y₄ - f[1]*y₁ - (y₂ - c[1]*y₁)*e[2] - (y₃ - e[1]*y₁ - (y₂ - c[1]*y₁)*c[2])*c[3])*c[4])*c[5]\n",
       "          y₇ - (y₄ - f[1]*y₁ - (y₂ - c[1]*y₁)*e[2] - (y₃ - e[1]*y₁ - (y₂ - c[1]*y₁)*c[2])*c[3])*f[4] - (y₅ - (y₂ - c[1]*y₁)*f[2] - (y₃ - e[1]*y₁ - (y₂ - c[1]*y₁)*c[2])*e[3] - (y₄ - f[1]*y₁ - (y₂ - c[1]*y₁)*e[2] - (y₃ - e[1]*y₁ - (y₂ - c[1]*y₁)*c[2])*c[3])*c[4])*e[5] - (y₆ - (y₃ - e[1]*y₁ - (y₂ - c[1]*y₁)*c[2])*f[3] - (y₄ - f[1]*y₁ - (y₂ - c[1]*y₁)*e[2] - (y₃ - e[1]*y₁ - (y₂ - c[1]*y₁)*c[2])*c[3])*e[4] - (y₅ - (y₂ - c[1]*y₁)*f[2] - (y₃ - e[1]*y₁ - (y₂ - c[1]*y₁)*c[2])*e[3] - (y₄ - f[1]*y₁ - (y₂ - c[1]*y₁)*e[2] - (y₃ - e[1]*y₁ - (y₂ - c[1]*y₁)*c[2])*c[3])*c[4])*c[5])*c[6]"
      ]
     },
     "execution_count": 17,
     "metadata": {},
     "output_type": "execute_result"
    }
   ],
   "source": [
    "L * θ\n",
    "L \\  y"
   ]
  },
  {
   "cell_type": "code",
   "execution_count": 19,
   "id": "1c25770d-29f2-483c-aa36-36b01fa50ef3",
   "metadata": {},
   "outputs": [
    {
     "data": {
      "text/latex": [
       "$$ \\begin{equation}\n",
       "\\left[\n",
       "\\begin{array}{cc}\n",
       "\\left( z_1 + c_1 z_2 + e_1 z_3 + f_1 z_4 \\right) d_1 & \\theta_1 \\\\\n",
       "\\left( z_2 + c_2 z_3 + e_2 z_4 + f_2 z_5 \\right) d_2 & \\theta_2 \\\\\n",
       "\\left( z_3 + c_3 z_4 + e_3 z_5 + f_3 z_6 \\right) d_3 & \\theta_3 \\\\\n",
       "\\left( z_4 + c_4 z_5 + e_4 z_6 + f_4 z_7 \\right) d_4 & \\theta_4 \\\\\n",
       "\\left( z_5 + c_5 z_6 + e_5 z_7 \\right) d_5 & \\theta_5 \\\\\n",
       "\\left( z_6 + c_6 z_7 \\right) d_6 & \\theta_6 \\\\\n",
       "d_7 z_7 & \\theta_7 \\\\\n",
       "\\end{array}\n",
       "\\right]\n",
       "\\end{equation}\n",
       " $$"
      ],
      "text/plain": [
       "7×2 Matrix{Num}:\n",
       "    (z₁ + c[1]*z₂ + e[1]*z₃ + f[1]*z₄)*d[1]  θ₁\n",
       "    (z₂ + c[2]*z₃ + e[2]*z₄ + f[2]*z₅)*d[2]  θ₂\n",
       "    (z₃ + c[3]*z₄ + e[3]*z₅ + f[3]*z₆)*d[3]  θ₃\n",
       "    (z₄ + c[4]*z₅ + e[4]*z₆ + f[4]*z₇)*d[4]  θ₄\n",
       "    (z₅ + c[5]*z₆ + e[5]*z₇)*d[5]            θ₅\n",
       " (z₆ + c[6]*z₇)*d[6]                         θ₆\n",
       "             d[7]*z₇                         θ₇"
      ]
     },
     "metadata": {},
     "output_type": "display_data"
    }
   ],
   "source": [
    "display([D * L' * z θ])\n",
    "# z' = (L' * z) \\ θ\n"
   ]
  }
 ],
 "metadata": {
  "kernelspec": {
   "display_name": "Julia 1.10.3",
   "language": "julia",
   "name": "julia-1.10"
  },
  "language_info": {
   "file_extension": ".jl",
   "mimetype": "application/julia",
   "name": "julia",
   "version": "1.10.3"
  }
 },
 "nbformat": 4,
 "nbformat_minor": 5
}
