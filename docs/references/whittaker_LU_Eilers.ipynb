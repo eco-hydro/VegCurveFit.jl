{
 "cells": [
  {
   "cell_type": "code",
   "execution_count": null,
   "id": "8717e83f-8793-45a4-8cc0-228e60917acd",
   "metadata": {},
   "outputs": [],
   "source": [
    "using LinearAlgebra, SparseArrays\n",
    "using Symbolics\n",
    "\n",
    "@variables λ "
   ]
  },
  {
   "cell_type": "code",
   "execution_count": 83,
   "id": "a3c7f159-d48a-4e75-811b-a199568d7e55",
   "metadata": {},
   "outputs": [
    {
     "data": {
      "text/plain": [
       "LU_decompose (generic function with 1 method)"
      ]
     },
     "execution_count": 83,
     "metadata": {},
     "output_type": "execute_result"
    }
   ],
   "source": [
    "function LU_decompose(A₁)\n",
    "    n = size(A₁, 1)\n",
    "    T = typeof(A₁)\n",
    "    L = T(diagm(ones(n)))\n",
    "    \n",
    "    ## 徒手LU分解\n",
    "    for i = 1:n-1\n",
    "        r1 = A₁[i, :]\n",
    "        # U[i, :] = r1\n",
    "        for j = i+1:n    \n",
    "            f = A₁[j, i] / A₁[i, i]\n",
    "            L[j, i] = f\n",
    "            A₁[j, :] .= A₁[j, :] .- (f * r1)\n",
    "            # 为啥要引入U，这样已经求解完成了\n",
    "            # L[:, 1] = A₁[j, :]\n",
    "        end\n",
    "        # println(\"i = $i\")\n",
    "        # display(A₁)\n",
    "    end\n",
    "    (;L, U=A₁)\n",
    "end"
   ]
  },
  {
   "cell_type": "code",
   "execution_count": 76,
   "id": "0b3d0446-5bf2-494d-9a96-efa5b7ee07ad",
   "metadata": {},
   "outputs": [
    {
     "data": {
      "text/plain": [
       "6×8 SparseMatrixCSC{Float64, Int64} with 18 stored entries:\n",
       " 1.0  -2.0   1.0    ⋅     ⋅     ⋅     ⋅    ⋅ \n",
       "  ⋅    1.0  -2.0   1.0    ⋅     ⋅     ⋅    ⋅ \n",
       "  ⋅     ⋅    1.0  -2.0   1.0    ⋅     ⋅    ⋅ \n",
       "  ⋅     ⋅     ⋅    1.0  -2.0   1.0    ⋅    ⋅ \n",
       "  ⋅     ⋅     ⋅     ⋅    1.0  -2.0   1.0   ⋅ \n",
       "  ⋅     ⋅     ⋅     ⋅     ⋅    1.0  -2.0  1.0"
      ]
     },
     "metadata": {},
     "output_type": "display_data"
    },
    {
     "data": {
      "text/latex": [
       "$$ \\begin{equation}\n",
       "\\left[\n",
       "\\begin{array}{cccccccc}\n",
       "1 + \\lambda &  - 2 \\lambda & \\lambda & 0 & 0 & 0 & 0 & 0 \\\\\n",
       " - 2 \\lambda & 1 + 5 \\lambda &  - 4 \\lambda & \\lambda & 0 & 0 & 0 & 0 \\\\\n",
       "\\lambda &  - 4 \\lambda & 1 + 6 \\lambda &  - 4 \\lambda & \\lambda & 0 & 0 & 0 \\\\\n",
       "0 & \\lambda &  - 4 \\lambda & 1 + 6 \\lambda &  - 4 \\lambda & \\lambda & 0 & 0 \\\\\n",
       "0 & 0 & \\lambda &  - 4 \\lambda & 1 + 6 \\lambda &  - 4 \\lambda & \\lambda & 0 \\\\\n",
       "0 & 0 & 0 & \\lambda &  - 4 \\lambda & 1 + 6 \\lambda &  - 4 \\lambda & \\lambda \\\\\n",
       "0 & 0 & 0 & 0 & \\lambda &  - 4 \\lambda & 1 + 5 \\lambda &  - 2 \\lambda \\\\\n",
       "0 & 0 & 0 & 0 & 0 & \\lambda &  - 2 \\lambda & 1 + \\lambda \\\\\n",
       "\\end{array}\n",
       "\\right]\n",
       "\\end{equation}\n",
       " $$"
      ],
      "text/plain": [
       "8×8 Matrix{Num}:\n",
       "  1.0 + λ  -2.0λ         λ           …   0.0          0.0          0.0\n",
       " -2.0λ      1.0 + 5.0λ  -4.0λ            0.0          0.0          0.0\n",
       "  λ        -4.0λ         1.0 + 6.0λ      0.0          0.0          0.0\n",
       "  0.0       λ           -4.0λ            λ            0.0          0.0\n",
       "  0.0       0.0          λ              -4.0λ         λ            0.0\n",
       "  0.0       0.0          0.0         …   1.0 + 6.0λ  -4.0λ         λ\n",
       "  0.0       0.0          0.0            -4.0λ         1.0 + 5.0λ  -2.0λ\n",
       "  0.0       0.0          0.0             λ           -2.0λ         1.0 + λ"
      ]
     },
     "execution_count": 76,
     "metadata": {},
     "output_type": "execute_result"
    }
   ],
   "source": [
    "speye(n) = SparseArrays.sparse(I, n, n)\n",
    "\n",
    "function Base.diff(x::SparseMatrixCSC, d::Integer=1)\n",
    "  D = x[2:end, :] .- x[1:end-1, :]\n",
    "  d >= 2 ? diff(D, d - 1) : D\n",
    "end\n",
    "\n",
    "function ddmat(x::AbstractVector, d::Integer=2)\n",
    "  m = length(x)\n",
    "  if d == 0\n",
    "    return speye(m)\n",
    "  else\n",
    "    dx = x[(d+1):m] - x[1:(m-d)] # bug may here\n",
    "    V = spdiagm(0 => 1.0 ./ dx)\n",
    "    ## dx计算存在错误\n",
    "    return V * diff(ddmat(x, d - 1))\n",
    "  end\n",
    "end\n",
    "\n",
    "n = 8\n",
    "D = ddmat(1:n)*2\n",
    "display(D)\n",
    "\n",
    "M = diagm(ones(n)) + λ * D' * D\n",
    "# ddmat(ddmat(1:n, 1), 1)"
   ]
  },
  {
   "cell_type": "code",
   "execution_count": 78,
   "id": "51947888-a1e3-4ade-9df4-dc4caeb2add2",
   "metadata": {},
   "outputs": [
    {
     "data": {
      "text/latex": [
       "$$ \\begin{equation}\n",
       "\\left[\n",
       "\\begin{array}{cccccccc}\n",
       "1 & 0 & 0 & 0 & 0 & 0 & 0 & 0 \\\\\n",
       "\\frac{ - 2 \\lambda}{1 + \\lambda} & 1 & 0 & 0 & 0 & 0 & 0 & 0 \\\\\n",
       "\\frac{\\lambda}{1 + \\lambda} & \\frac{\\frac{2 \\lambda^{2}}{1 + \\lambda} - 4 \\lambda}{1 + \\frac{ - 4 \\lambda^{2}}{1 + \\lambda} + 5 \\lambda} & 1 & 0 & 0 & 0 & 0 & 0 \\\\\n",
       "0 & \\frac{\\lambda}{1 + \\frac{ - 4 \\lambda^{2}}{1 + \\lambda} + 5 \\lambda} & \\frac{\\frac{ - \\left( \\frac{2 \\lambda^{2}}{1 + \\lambda} - 4 \\lambda \\right) \\lambda}{1 + \\frac{ - 4 \\lambda^{2}}{1 + \\lambda} + 5 \\lambda} - 4 \\lambda}{1 + \\frac{ - \\left( \\frac{2 \\lambda^{2}}{1 + \\lambda} - 4 \\lambda \\right)^{2}}{1 + \\frac{ - 4 \\lambda^{2}}{1 + \\lambda} + 5 \\lambda} + \\frac{ - \\lambda^{2}}{1 + \\lambda} + 6 \\lambda} & 1 & 0 & 0 & 0 & 0 \\\\\n",
       "0 & 0 & \\frac{\\lambda}{1 + \\frac{ - \\left( \\frac{2 \\lambda^{2}}{1 + \\lambda} - 4 \\lambda \\right)^{2}}{1 + \\frac{ - 4 \\lambda^{2}}{1 + \\lambda} + 5 \\lambda} + \\frac{ - \\lambda^{2}}{1 + \\lambda} + 6 \\lambda} & 0 & 1 & 0 & 0 & 0 \\\\\n",
       "0 & 0 & 0 & 0 & 0 & 1 & 0 & 0 \\\\\n",
       "0 & 0 & 0 & 0 & 0 & 0 & 1 & 0 \\\\\n",
       "0 & 0 & 0 & 0 & 0 & 0 & 0 & 1 \\\\\n",
       "\\end{array}\n",
       "\\right]\n",
       "\\end{equation}\n",
       " $$"
      ],
      "text/plain": [
       "8×8 Matrix{Num}:\n",
       "      1.0                …  0.0  0.0  0.0  0.0  0.0\n",
       "    (-2.0λ) / (1.0 + λ)     0.0  0.0  0.0  0.0  0.0\n",
       " λ / (1.0 + λ)              0.0  0.0  0.0  0.0  0.0\n",
       "      0.0                   1.0  0.0  0.0  0.0  0.0\n",
       "      0.0                   0.0  1.0  0.0  0.0  0.0\n",
       "      0.0                …  0.0  0.0  1.0  0.0  0.0\n",
       "      0.0                   0.0  0.0  0.0  1.0  0.0\n",
       "      0.0                   0.0  0.0  0.0  0.0  1.0"
      ]
     },
     "metadata": {},
     "output_type": "display_data"
    },
    {
     "data": {
      "text/latex": [
       "$$ \\begin{equation}\n",
       "\\left[\n",
       "\\begin{array}{cccccccc}\n",
       "1 + \\lambda &  - 2 \\lambda & \\lambda & 0 & 0 & 0 & 0 & 0 \\\\\n",
       "0 & 1 + \\frac{ - 4 \\lambda^{2}}{1 + \\lambda} + 5 \\lambda & \\frac{2 \\lambda^{2}}{1 + \\lambda} - 4 \\lambda & \\lambda & 0 & 0 & 0 & 0 \\\\\n",
       "0 & 0 & 1 + \\frac{ - \\left( \\frac{2 \\lambda^{2}}{1 + \\lambda} - 4 \\lambda \\right)^{2}}{1 + \\frac{ - 4 \\lambda^{2}}{1 + \\lambda} + 5 \\lambda} + \\frac{ - \\lambda^{2}}{1 + \\lambda} + 6 \\lambda & \\frac{ - \\left( \\frac{2 \\lambda^{2}}{1 + \\lambda} - 4 \\lambda \\right) \\lambda}{1 + \\frac{ - 4 \\lambda^{2}}{1 + \\lambda} + 5 \\lambda} - 4 \\lambda & \\lambda & 0 & 0 & 0 \\\\\n",
       "0 & 0 & 0 & 1 + \\frac{ - \\lambda^{2}}{1 + \\frac{ - 4 \\lambda^{2}}{1 + \\lambda} + 5 \\lambda} + \\frac{ - \\left( \\frac{ - \\left( \\frac{2 \\lambda^{2}}{1 + \\lambda} - 4 \\lambda \\right) \\lambda}{1 + \\frac{ - 4 \\lambda^{2}}{1 + \\lambda} + 5 \\lambda} - 4 \\lambda \\right)^{2}}{1 + \\frac{ - \\left( \\frac{2 \\lambda^{2}}{1 + \\lambda} - 4 \\lambda \\right)^{2}}{1 + \\frac{ - 4 \\lambda^{2}}{1 + \\lambda} + 5 \\lambda} + \\frac{ - \\lambda^{2}}{1 + \\lambda} + 6 \\lambda} + 6 \\lambda & \\frac{ - \\left( \\frac{ - \\left( \\frac{2 \\lambda^{2}}{1 + \\lambda} - 4 \\lambda \\right) \\lambda}{1 + \\frac{ - 4 \\lambda^{2}}{1 + \\lambda} + 5 \\lambda} - 4 \\lambda \\right) \\lambda}{1 + \\frac{ - \\left( \\frac{2 \\lambda^{2}}{1 + \\lambda} - 4 \\lambda \\right)^{2}}{1 + \\frac{ - 4 \\lambda^{2}}{1 + \\lambda} + 5 \\lambda} + \\frac{ - \\lambda^{2}}{1 + \\lambda} + 6 \\lambda} - 4 \\lambda & \\lambda & 0 & 0 \\\\\n",
       "0 & 0 & 0 & \\frac{ - \\left( \\frac{ - \\left( \\frac{2 \\lambda^{2}}{1 + \\lambda} - 4 \\lambda \\right) \\lambda}{1 + \\frac{ - 4 \\lambda^{2}}{1 + \\lambda} + 5 \\lambda} - 4 \\lambda \\right) \\lambda}{1 + \\frac{ - \\left( \\frac{2 \\lambda^{2}}{1 + \\lambda} - 4 \\lambda \\right)^{2}}{1 + \\frac{ - 4 \\lambda^{2}}{1 + \\lambda} + 5 \\lambda} + \\frac{ - \\lambda^{2}}{1 + \\lambda} + 6 \\lambda} - 4 \\lambda & 1 + \\frac{ - \\lambda^{2}}{1 + \\frac{ - \\left( \\frac{2 \\lambda^{2}}{1 + \\lambda} - 4 \\lambda \\right)^{2}}{1 + \\frac{ - 4 \\lambda^{2}}{1 + \\lambda} + 5 \\lambda} + \\frac{ - \\lambda^{2}}{1 + \\lambda} + 6 \\lambda} + 6 \\lambda &  - 4 \\lambda & \\lambda & 0 \\\\\n",
       "0 & 0 & 0 & \\lambda &  - 4 \\lambda & 1 + 6 \\lambda &  - 4 \\lambda & \\lambda \\\\\n",
       "0 & 0 & 0 & 0 & \\lambda &  - 4 \\lambda & 1 + 5 \\lambda &  - 2 \\lambda \\\\\n",
       "0 & 0 & 0 & 0 & 0 & \\lambda &  - 2 \\lambda & 1 + \\lambda \\\\\n",
       "\\end{array}\n",
       "\\right]\n",
       "\\end{equation}\n",
       " $$"
      ],
      "text/plain": [
       "8×8 Matrix{Num}:\n",
       " 1.0 + λ  …   0.0          0.0          0.0\n",
       " 0            0.0          0.0          0.0\n",
       " 0            0.0          0.0          0.0\n",
       " 0.0          λ            0.0          0.0\n",
       " 0.0         -4.0λ         λ            0.0\n",
       " 0.0      …   1.0 + 6.0λ  -4.0λ         λ\n",
       " 0.0         -4.0λ         1.0 + 5.0λ  -2.0λ\n",
       " 0.0          λ           -2.0λ         1.0 + λ"
      ]
     },
     "metadata": {},
     "output_type": "display_data"
    }
   ],
   "source": [
    "U = deepcopy(M)\n",
    "L = typeof(U)(diagm(ones(n)))\n",
    "\n",
    "# 仅运行三次，猜测公式的形式\n",
    "for i = 1:3\n",
    "    r1 = U[i, :]\n",
    "    for j = i+1:min(i+2, n)\n",
    "        f = U[j, i] / U[i, i]\n",
    "        L[j, i] = f\n",
    "        U[j, :] .= U[j, :] .- (f * r1)\n",
    "    end\n",
    "end\n",
    "## U\n",
    "## Elier采用的是LU分解 \n",
    "display(L)\n",
    "display(U)\n"
   ]
  },
  {
   "cell_type": "code",
   "execution_count": null,
   "id": "e086e212-f671-4bf9-aa5f-a977a63598ac",
   "metadata": {},
   "outputs": [],
   "source": []
  },
  {
   "cell_type": "code",
   "execution_count": 60,
   "id": "9588945b-34e7-4bc9-932a-1791fcfa2602",
   "metadata": {},
   "outputs": [
    {
     "data": {
      "text/latex": [
       "$$ \\begin{equation}\n",
       "\\left[\n",
       "\\begin{array}{cccccccc}\n",
       "1 & 0 & 0 & 0 & 0 & 0 & 0 & 0 \\\\\n",
       "0 & 1 & 0 & 0 & 0 & 0 & 0 & 0 \\\\\n",
       "0 & 0 & 1 & 0 & 0 & 0 & 0 & 0 \\\\\n",
       "0 & 0 & 0 & 1 & 0 & 0 & 0 & 0 \\\\\n",
       "0 & 0 & 0 & 0 & 1 & 0 & 0 & 0 \\\\\n",
       "0 & 0 & 0 & 0 & 0 & 1 & 0 & 0 \\\\\n",
       "0 & 0 & 0 & 0 & 0 & 0 & 1 & 0 \\\\\n",
       "0 & 0 & 0 & 0 & 0 & 0 & 0 & 1 \\\\\n",
       "\\end{array}\n",
       "\\right]\n",
       "\\end{equation}\n",
       " $$"
      ],
      "text/plain": [
       "8×8 Matrix{Num}:\n",
       " 1.0  0.0  0.0  0.0  0.0  0.0  0.0  0.0\n",
       " 0.0  1.0  0.0  0.0  0.0  0.0  0.0  0.0\n",
       " 0.0  0.0  1.0  0.0  0.0  0.0  0.0  0.0\n",
       " 0.0  0.0  0.0  1.0  0.0  0.0  0.0  0.0\n",
       " 0.0  0.0  0.0  0.0  1.0  0.0  0.0  0.0\n",
       " 0.0  0.0  0.0  0.0  0.0  1.0  0.0  0.0\n",
       " 0.0  0.0  0.0  0.0  0.0  0.0  1.0  0.0\n",
       " 0.0  0.0  0.0  0.0  0.0  0.0  0.0  1.0"
      ]
     },
     "execution_count": 60,
     "metadata": {},
     "output_type": "execute_result"
    }
   ],
   "source": [
    "# typeof(U)"
   ]
  },
  {
   "cell_type": "code",
   "execution_count": 79,
   "id": "c80fd687-a0d6-4f73-8e6d-cb4158065161",
   "metadata": {},
   "outputs": [],
   "source": [
    "# U = deepcopy(M)\n",
    "# L,U = LU_decompose(U)\n",
    "# L"
   ]
  },
  {
   "cell_type": "code",
   "execution_count": null,
   "id": "08a6aecf-96db-412e-869a-05226241f544",
   "metadata": {},
   "outputs": [],
   "source": []
  },
  {
   "cell_type": "code",
   "execution_count": 81,
   "id": "709c66c6-8ba1-40d5-8d5b-7021c64e0cb7",
   "metadata": {},
   "outputs": [
    {
     "data": {
      "text/latex": [
       "$$ \\begin{equation}\n",
       "\\left[\n",
       "\\begin{array}{cccccccc}\n",
       "1 & 0 & 0 & 0 & 0 & 0 & 0 & 0 \\\\\n",
       "\\frac{ - 2 \\lambda}{1 + \\lambda} & 1 & 0 & 0 & 0 & 0 & 0 & 0 \\\\\n",
       "\\frac{\\lambda}{1 + \\lambda} & \\frac{\\frac{2 \\lambda^{2}}{1 + \\lambda} - 4 \\lambda}{1 + \\frac{ - 4 \\lambda^{2}}{1 + \\lambda} + 5 \\lambda} & 1 & 0 & 0 & 0 & 0 & 0 \\\\\n",
       "0 & \\frac{\\lambda}{1 + \\frac{ - 4 \\lambda^{2}}{1 + \\lambda} + 5 \\lambda} & \\frac{\\frac{ - \\left( \\frac{2 \\lambda^{2}}{1 + \\lambda} - 4 \\lambda \\right) \\lambda}{1 + \\frac{ - 4 \\lambda^{2}}{1 + \\lambda} + 5 \\lambda} - 4 \\lambda}{1 + \\frac{ - \\left( \\frac{2 \\lambda^{2}}{1 + \\lambda} - 4 \\lambda \\right)^{2}}{1 + \\frac{ - 4 \\lambda^{2}}{1 + \\lambda} + 5 \\lambda} + \\frac{ - \\lambda^{2}}{1 + \\lambda} + 6 \\lambda} & 1 & 0 & 0 & 0 & 0 \\\\\n",
       "0 & 0 & \\frac{\\lambda}{1 + \\frac{ - \\left( \\frac{2 \\lambda^{2}}{1 + \\lambda} - 4 \\lambda \\right)^{2}}{1 + \\frac{ - 4 \\lambda^{2}}{1 + \\lambda} + 5 \\lambda} + \\frac{ - \\lambda^{2}}{1 + \\lambda} + 6 \\lambda} & \\frac{\\frac{ - \\left( \\frac{ - \\left( \\frac{2 \\lambda^{2}}{1 + \\lambda} - 4 \\lambda \\right) \\lambda}{1 + \\frac{ - 4 \\lambda^{2}}{1 + \\lambda} + 5 \\lambda} - 4 \\lambda \\right) \\lambda}{1 + \\frac{ - \\left( \\frac{2 \\lambda^{2}}{1 + \\lambda} - 4 \\lambda \\right)^{2}}{1 + \\frac{ - 4 \\lambda^{2}}{1 + \\lambda} + 5 \\lambda} + \\frac{ - \\lambda^{2}}{1 + \\lambda} + 6 \\lambda} - 4 \\lambda}{1 + \\frac{ - \\lambda^{2}}{1 + \\frac{ - 4 \\lambda^{2}}{1 + \\lambda} + 5 \\lambda} + \\frac{ - \\left( \\frac{ - \\left( \\frac{2 \\lambda^{2}}{1 + \\lambda} - 4 \\lambda \\right) \\lambda}{1 + \\frac{ - 4 \\lambda^{2}}{1 + \\lambda} + 5 \\lambda} - 4 \\lambda \\right)^{2}}{1 + \\frac{ - \\left( \\frac{2 \\lambda^{2}}{1 + \\lambda} - 4 \\lambda \\right)^{2}}{1 + \\frac{ - 4 \\lambda^{2}}{1 + \\lambda} + 5 \\lambda} + \\frac{ - \\lambda^{2}}{1 + \\lambda} + 6 \\lambda} + 6 \\lambda} & 1 & 0 & 0 & 0 \\\\\n",
       "0 & 0 & 0 & \\frac{\\lambda}{1 + \\frac{ - \\lambda^{2}}{1 + \\frac{ - 4 \\lambda^{2}}{1 + \\lambda} + 5 \\lambda} + \\frac{ - \\left( \\frac{ - \\left( \\frac{2 \\lambda^{2}}{1 + \\lambda} - 4 \\lambda \\right) \\lambda}{1 + \\frac{ - 4 \\lambda^{2}}{1 + \\lambda} + 5 \\lambda} - 4 \\lambda \\right)^{2}}{1 + \\frac{ - \\left( \\frac{2 \\lambda^{2}}{1 + \\lambda} - 4 \\lambda \\right)^{2}}{1 + \\frac{ - 4 \\lambda^{2}}{1 + \\lambda} + 5 \\lambda} + \\frac{ - \\lambda^{2}}{1 + \\lambda} + 6 \\lambda} + 6 \\lambda} & \\frac{\\frac{ - \\left( \\frac{ - \\left( \\frac{ - \\left( \\frac{2 \\lambda^{2}}{1 + \\lambda} - 4 \\lambda \\right) \\lambda}{1 + \\frac{ - 4 \\lambda^{2}}{1 + \\lambda} + 5 \\lambda} - 4 \\lambda \\right) \\lambda}{1 + \\frac{ - \\left( \\frac{2 \\lambda^{2}}{1 + \\lambda} - 4 \\lambda \\right)^{2}}{1 + \\frac{ - 4 \\lambda^{2}}{1 + \\lambda} + 5 \\lambda} + \\frac{ - \\lambda^{2}}{1 + \\lambda} + 6 \\lambda} - 4 \\lambda \\right) \\lambda}{1 + \\frac{ - \\lambda^{2}}{1 + \\frac{ - 4 \\lambda^{2}}{1 + \\lambda} + 5 \\lambda} + \\frac{ - \\left( \\frac{ - \\left( \\frac{2 \\lambda^{2}}{1 + \\lambda} - 4 \\lambda \\right) \\lambda}{1 + \\frac{ - 4 \\lambda^{2}}{1 + \\lambda} + 5 \\lambda} - 4 \\lambda \\right)^{2}}{1 + \\frac{ - \\left( \\frac{2 \\lambda^{2}}{1 + \\lambda} - 4 \\lambda \\right)^{2}}{1 + \\frac{ - 4 \\lambda^{2}}{1 + \\lambda} + 5 \\lambda} + \\frac{ - \\lambda^{2}}{1 + \\lambda} + 6 \\lambda} + 6 \\lambda} - 4 \\lambda}{1 + \\frac{ - \\lambda^{2}}{1 + \\frac{ - \\left( \\frac{2 \\lambda^{2}}{1 + \\lambda} - 4 \\lambda \\right)^{2}}{1 + \\frac{ - 4 \\lambda^{2}}{1 + \\lambda} + 5 \\lambda} + \\frac{ - \\lambda^{2}}{1 + \\lambda} + 6 \\lambda} + \\frac{ - \\left( \\frac{ - \\left( \\frac{ - \\left( \\frac{2 \\lambda^{2}}{1 + \\lambda} - 4 \\lambda \\right) \\lambda}{1 + \\frac{ - 4 \\lambda^{2}}{1 + \\lambda} + 5 \\lambda} - 4 \\lambda \\right) \\lambda}{1 + \\frac{ - \\left( \\frac{2 \\lambda^{2}}{1 + \\lambda} - 4 \\lambda \\right)^{2}}{1 + \\frac{ - 4 \\lambda^{2}}{1 + \\lambda} + 5 \\lambda} + \\frac{ - \\lambda^{2}}{1 + \\lambda} + 6 \\lambda} - 4 \\lambda \\right)^{2}}{1 + \\frac{ - \\lambda^{2}}{1 + \\frac{ - 4 \\lambda^{2}}{1 + \\lambda} + 5 \\lambda} + \\frac{ - \\left( \\frac{ - \\left( \\frac{2 \\lambda^{2}}{1 + \\lambda} - 4 \\lambda \\right) \\lambda}{1 + \\frac{ - 4 \\lambda^{2}}{1 + \\lambda} + 5 \\lambda} - 4 \\lambda \\right)^{2}}{1 + \\frac{ - \\left( \\frac{2 \\lambda^{2}}{1 + \\lambda} - 4 \\lambda \\right)^{2}}{1 + \\frac{ - 4 \\lambda^{2}}{1 + \\lambda} + 5 \\lambda} + \\frac{ - \\lambda^{2}}{1 + \\lambda} + 6 \\lambda} + 6 \\lambda} + 6 \\lambda} & 1 & 0 & 0 \\\\\n",
       "0 & 0 & 0 & 0 & \\frac{\\lambda}{1 + \\frac{ - \\lambda^{2}}{1 + \\frac{ - \\left( \\frac{2 \\lambda^{2}}{1 + \\lambda} - 4 \\lambda \\right)^{2}}{1 + \\frac{ - 4 \\lambda^{2}}{1 + \\lambda} + 5 \\lambda} + \\frac{ - \\lambda^{2}}{1 + \\lambda} + 6 \\lambda} + \\frac{ - \\left( \\frac{ - \\left( \\frac{ - \\left( \\frac{2 \\lambda^{2}}{1 + \\lambda} - 4 \\lambda \\right) \\lambda}{1 + \\frac{ - 4 \\lambda^{2}}{1 + \\lambda} + 5 \\lambda} - 4 \\lambda \\right) \\lambda}{1 + \\frac{ - \\left( \\frac{2 \\lambda^{2}}{1 + \\lambda} - 4 \\lambda \\right)^{2}}{1 + \\frac{ - 4 \\lambda^{2}}{1 + \\lambda} + 5 \\lambda} + \\frac{ - \\lambda^{2}}{1 + \\lambda} + 6 \\lambda} - 4 \\lambda \\right)^{2}}{1 + \\frac{ - \\lambda^{2}}{1 + \\frac{ - 4 \\lambda^{2}}{1 + \\lambda} + 5 \\lambda} + \\frac{ - \\left( \\frac{ - \\left( \\frac{2 \\lambda^{2}}{1 + \\lambda} - 4 \\lambda \\right) \\lambda}{1 + \\frac{ - 4 \\lambda^{2}}{1 + \\lambda} + 5 \\lambda} - 4 \\lambda \\right)^{2}}{1 + \\frac{ - \\left( \\frac{2 \\lambda^{2}}{1 + \\lambda} - 4 \\lambda \\right)^{2}}{1 + \\frac{ - 4 \\lambda^{2}}{1 + \\lambda} + 5 \\lambda} + \\frac{ - \\lambda^{2}}{1 + \\lambda} + 6 \\lambda} + 6 \\lambda} + 6 \\lambda} & \\frac{\\frac{ - \\left( \\frac{ - \\left( \\frac{ - \\left( \\frac{ - \\left( \\frac{2 \\lambda^{2}}{1 + \\lambda} - 4 \\lambda \\right) \\lambda}{1 + \\frac{ - 4 \\lambda^{2}}{1 + \\lambda} + 5 \\lambda} - 4 \\lambda \\right) \\lambda}{1 + \\frac{ - \\left( \\frac{2 \\lambda^{2}}{1 + \\lambda} - 4 \\lambda \\right)^{2}}{1 + \\frac{ - 4 \\lambda^{2}}{1 + \\lambda} + 5 \\lambda} + \\frac{ - \\lambda^{2}}{1 + \\lambda} + 6 \\lambda} - 4 \\lambda \\right) \\lambda}{1 + \\frac{ - \\lambda^{2}}{1 + \\frac{ - 4 \\lambda^{2}}{1 + \\lambda} + 5 \\lambda} + \\frac{ - \\left( \\frac{ - \\left( \\frac{2 \\lambda^{2}}{1 + \\lambda} - 4 \\lambda \\right) \\lambda}{1 + \\frac{ - 4 \\lambda^{2}}{1 + \\lambda} + 5 \\lambda} - 4 \\lambda \\right)^{2}}{1 + \\frac{ - \\left( \\frac{2 \\lambda^{2}}{1 + \\lambda} - 4 \\lambda \\right)^{2}}{1 + \\frac{ - 4 \\lambda^{2}}{1 + \\lambda} + 5 \\lambda} + \\frac{ - \\lambda^{2}}{1 + \\lambda} + 6 \\lambda} + 6 \\lambda} - 4 \\lambda \\right) \\lambda}{1 + \\frac{ - \\lambda^{2}}{1 + \\frac{ - \\left( \\frac{2 \\lambda^{2}}{1 + \\lambda} - 4 \\lambda \\right)^{2}}{1 + \\frac{ - 4 \\lambda^{2}}{1 + \\lambda} + 5 \\lambda} + \\frac{ - \\lambda^{2}}{1 + \\lambda} + 6 \\lambda} + \\frac{ - \\left( \\frac{ - \\left( \\frac{ - \\left( \\frac{2 \\lambda^{2}}{1 + \\lambda} - 4 \\lambda \\right) \\lambda}{1 + \\frac{ - 4 \\lambda^{2}}{1 + \\lambda} + 5 \\lambda} - 4 \\lambda \\right) \\lambda}{1 + \\frac{ - \\left( \\frac{2 \\lambda^{2}}{1 + \\lambda} - 4 \\lambda \\right)^{2}}{1 + \\frac{ - 4 \\lambda^{2}}{1 + \\lambda} + 5 \\lambda} + \\frac{ - \\lambda^{2}}{1 + \\lambda} + 6 \\lambda} - 4 \\lambda \\right)^{2}}{1 + \\frac{ - \\lambda^{2}}{1 + \\frac{ - 4 \\lambda^{2}}{1 + \\lambda} + 5 \\lambda} + \\frac{ - \\left( \\frac{ - \\left( \\frac{2 \\lambda^{2}}{1 + \\lambda} - 4 \\lambda \\right) \\lambda}{1 + \\frac{ - 4 \\lambda^{2}}{1 + \\lambda} + 5 \\lambda} - 4 \\lambda \\right)^{2}}{1 + \\frac{ - \\left( \\frac{2 \\lambda^{2}}{1 + \\lambda} - 4 \\lambda \\right)^{2}}{1 + \\frac{ - 4 \\lambda^{2}}{1 + \\lambda} + 5 \\lambda} + \\frac{ - \\lambda^{2}}{1 + \\lambda} + 6 \\lambda} + 6 \\lambda} + 6 \\lambda} - 4 \\lambda}{1 + \\frac{ - \\lambda^{2}}{1 + \\frac{ - \\lambda^{2}}{1 + \\frac{ - 4 \\lambda^{2}}{1 + \\lambda} + 5 \\lambda} + \\frac{ - \\left( \\frac{ - \\left( \\frac{2 \\lambda^{2}}{1 + \\lambda} - 4 \\lambda \\right) \\lambda}{1 + \\frac{ - 4 \\lambda^{2}}{1 + \\lambda} + 5 \\lambda} - 4 \\lambda \\right)^{2}}{1 + \\frac{ - \\left( \\frac{2 \\lambda^{2}}{1 + \\lambda} - 4 \\lambda \\right)^{2}}{1 + \\frac{ - 4 \\lambda^{2}}{1 + \\lambda} + 5 \\lambda} + \\frac{ - \\lambda^{2}}{1 + \\lambda} + 6 \\lambda} + 6 \\lambda} + \\frac{ - \\left( \\frac{ - \\left( \\frac{ - \\left( \\frac{ - \\left( \\frac{2 \\lambda^{2}}{1 + \\lambda} - 4 \\lambda \\right) \\lambda}{1 + \\frac{ - 4 \\lambda^{2}}{1 + \\lambda} + 5 \\lambda} - 4 \\lambda \\right) \\lambda}{1 + \\frac{ - \\left( \\frac{2 \\lambda^{2}}{1 + \\lambda} - 4 \\lambda \\right)^{2}}{1 + \\frac{ - 4 \\lambda^{2}}{1 + \\lambda} + 5 \\lambda} + \\frac{ - \\lambda^{2}}{1 + \\lambda} + 6 \\lambda} - 4 \\lambda \\right) \\lambda}{1 + \\frac{ - \\lambda^{2}}{1 + \\frac{ - 4 \\lambda^{2}}{1 + \\lambda} + 5 \\lambda} + \\frac{ - \\left( \\frac{ - \\left( \\frac{2 \\lambda^{2}}{1 + \\lambda} - 4 \\lambda \\right) \\lambda}{1 + \\frac{ - 4 \\lambda^{2}}{1 + \\lambda} + 5 \\lambda} - 4 \\lambda \\right)^{2}}{1 + \\frac{ - \\left( \\frac{2 \\lambda^{2}}{1 + \\lambda} - 4 \\lambda \\right)^{2}}{1 + \\frac{ - 4 \\lambda^{2}}{1 + \\lambda} + 5 \\lambda} + \\frac{ - \\lambda^{2}}{1 + \\lambda} + 6 \\lambda} + 6 \\lambda} - 4 \\lambda \\right)^{2}}{1 + \\frac{ - \\lambda^{2}}{1 + \\frac{ - \\left( \\frac{2 \\lambda^{2}}{1 + \\lambda} - 4 \\lambda \\right)^{2}}{1 + \\frac{ - 4 \\lambda^{2}}{1 + \\lambda} + 5 \\lambda} + \\frac{ - \\lambda^{2}}{1 + \\lambda} + 6 \\lambda} + \\frac{ - \\left( \\frac{ - \\left( \\frac{ - \\left( \\frac{2 \\lambda^{2}}{1 + \\lambda} - 4 \\lambda \\right) \\lambda}{1 + \\frac{ - 4 \\lambda^{2}}{1 + \\lambda} + 5 \\lambda} - 4 \\lambda \\right) \\lambda}{1 + \\frac{ - \\left( \\frac{2 \\lambda^{2}}{1 + \\lambda} - 4 \\lambda \\right)^{2}}{1 + \\frac{ - 4 \\lambda^{2}}{1 + \\lambda} + 5 \\lambda} + \\frac{ - \\lambda^{2}}{1 + \\lambda} + 6 \\lambda} - 4 \\lambda \\right)^{2}}{1 + \\frac{ - \\lambda^{2}}{1 + \\frac{ - 4 \\lambda^{2}}{1 + \\lambda} + 5 \\lambda} + \\frac{ - \\left( \\frac{ - \\left( \\frac{2 \\lambda^{2}}{1 + \\lambda} - 4 \\lambda \\right) \\lambda}{1 + \\frac{ - 4 \\lambda^{2}}{1 + \\lambda} + 5 \\lambda} - 4 \\lambda \\right)^{2}}{1 + \\frac{ - \\left( \\frac{2 \\lambda^{2}}{1 + \\lambda} - 4 \\lambda \\right)^{2}}{1 + \\frac{ - 4 \\lambda^{2}}{1 + \\lambda} + 5 \\lambda} + \\frac{ - \\lambda^{2}}{1 + \\lambda} + 6 \\lambda} + 6 \\lambda} + 6 \\lambda} + 6 \\lambda} & 1 & 0 \\\\\n",
       "0 & 0 & 0 & 0 & 0 & \\frac{\\lambda}{1 + \\frac{ - \\lambda^{2}}{1 + \\frac{ - \\lambda^{2}}{1 + \\frac{ - 4 \\lambda^{2}}{1 + \\lambda} + 5 \\lambda} + \\frac{ - \\left( \\frac{ - \\left( \\frac{2 \\lambda^{2}}{1 + \\lambda} - 4 \\lambda \\right) \\lambda}{1 + \\frac{ - 4 \\lambda^{2}}{1 + \\lambda} + 5 \\lambda} - 4 \\lambda \\right)^{2}}{1 + \\frac{ - \\left( \\frac{2 \\lambda^{2}}{1 + \\lambda} - 4 \\lambda \\right)^{2}}{1 + \\frac{ - 4 \\lambda^{2}}{1 + \\lambda} + 5 \\lambda} + \\frac{ - \\lambda^{2}}{1 + \\lambda} + 6 \\lambda} + 6 \\lambda} + \\frac{ - \\left( \\frac{ - \\left( \\frac{ - \\left( \\frac{ - \\left( \\frac{2 \\lambda^{2}}{1 + \\lambda} - 4 \\lambda \\right) \\lambda}{1 + \\frac{ - 4 \\lambda^{2}}{1 + \\lambda} + 5 \\lambda} - 4 \\lambda \\right) \\lambda}{1 + \\frac{ - \\left( \\frac{2 \\lambda^{2}}{1 + \\lambda} - 4 \\lambda \\right)^{2}}{1 + \\frac{ - 4 \\lambda^{2}}{1 + \\lambda} + 5 \\lambda} + \\frac{ - \\lambda^{2}}{1 + \\lambda} + 6 \\lambda} - 4 \\lambda \\right) \\lambda}{1 + \\frac{ - \\lambda^{2}}{1 + \\frac{ - 4 \\lambda^{2}}{1 + \\lambda} + 5 \\lambda} + \\frac{ - \\left( \\frac{ - \\left( \\frac{2 \\lambda^{2}}{1 + \\lambda} - 4 \\lambda \\right) \\lambda}{1 + \\frac{ - 4 \\lambda^{2}}{1 + \\lambda} + 5 \\lambda} - 4 \\lambda \\right)^{2}}{1 + \\frac{ - \\left( \\frac{2 \\lambda^{2}}{1 + \\lambda} - 4 \\lambda \\right)^{2}}{1 + \\frac{ - 4 \\lambda^{2}}{1 + \\lambda} + 5 \\lambda} + \\frac{ - \\lambda^{2}}{1 + \\lambda} + 6 \\lambda} + 6 \\lambda} - 4 \\lambda \\right)^{2}}{1 + \\frac{ - \\lambda^{2}}{1 + \\frac{ - \\left( \\frac{2 \\lambda^{2}}{1 + \\lambda} - 4 \\lambda \\right)^{2}}{1 + \\frac{ - 4 \\lambda^{2}}{1 + \\lambda} + 5 \\lambda} + \\frac{ - \\lambda^{2}}{1 + \\lambda} + 6 \\lambda} + \\frac{ - \\left( \\frac{ - \\left( \\frac{ - \\left( \\frac{2 \\lambda^{2}}{1 + \\lambda} - 4 \\lambda \\right) \\lambda}{1 + \\frac{ - 4 \\lambda^{2}}{1 + \\lambda} + 5 \\lambda} - 4 \\lambda \\right) \\lambda}{1 + \\frac{ - \\left( \\frac{2 \\lambda^{2}}{1 + \\lambda} - 4 \\lambda \\right)^{2}}{1 + \\frac{ - 4 \\lambda^{2}}{1 + \\lambda} + 5 \\lambda} + \\frac{ - \\lambda^{2}}{1 + \\lambda} + 6 \\lambda} - 4 \\lambda \\right)^{2}}{1 + \\frac{ - \\lambda^{2}}{1 + \\frac{ - 4 \\lambda^{2}}{1 + \\lambda} + 5 \\lambda} + \\frac{ - \\left( \\frac{ - \\left( \\frac{2 \\lambda^{2}}{1 + \\lambda} - 4 \\lambda \\right) \\lambda}{1 + \\frac{ - 4 \\lambda^{2}}{1 + \\lambda} + 5 \\lambda} - 4 \\lambda \\right)^{2}}{1 + \\frac{ - \\left( \\frac{2 \\lambda^{2}}{1 + \\lambda} - 4 \\lambda \\right)^{2}}{1 + \\frac{ - 4 \\lambda^{2}}{1 + \\lambda} + 5 \\lambda} + \\frac{ - \\lambda^{2}}{1 + \\lambda} + 6 \\lambda} + 6 \\lambda} + 6 \\lambda} + 6 \\lambda} & \\frac{\\frac{ - \\left( \\frac{ - \\left( \\frac{ - \\left( \\frac{ - \\left( \\frac{ - \\left( \\frac{2 \\lambda^{2}}{1 + \\lambda} - 4 \\lambda \\right) \\lambda}{1 + \\frac{ - 4 \\lambda^{2}}{1 + \\lambda} + 5 \\lambda} - 4 \\lambda \\right) \\lambda}{1 + \\frac{ - \\left( \\frac{2 \\lambda^{2}}{1 + \\lambda} - 4 \\lambda \\right)^{2}}{1 + \\frac{ - 4 \\lambda^{2}}{1 + \\lambda} + 5 \\lambda} + \\frac{ - \\lambda^{2}}{1 + \\lambda} + 6 \\lambda} - 4 \\lambda \\right) \\lambda}{1 + \\frac{ - \\lambda^{2}}{1 + \\frac{ - 4 \\lambda^{2}}{1 + \\lambda} + 5 \\lambda} + \\frac{ - \\left( \\frac{ - \\left( \\frac{2 \\lambda^{2}}{1 + \\lambda} - 4 \\lambda \\right) \\lambda}{1 + \\frac{ - 4 \\lambda^{2}}{1 + \\lambda} + 5 \\lambda} - 4 \\lambda \\right)^{2}}{1 + \\frac{ - \\left( \\frac{2 \\lambda^{2}}{1 + \\lambda} - 4 \\lambda \\right)^{2}}{1 + \\frac{ - 4 \\lambda^{2}}{1 + \\lambda} + 5 \\lambda} + \\frac{ - \\lambda^{2}}{1 + \\lambda} + 6 \\lambda} + 6 \\lambda} - 4 \\lambda \\right) \\lambda}{1 + \\frac{ - \\lambda^{2}}{1 + \\frac{ - \\left( \\frac{2 \\lambda^{2}}{1 + \\lambda} - 4 \\lambda \\right)^{2}}{1 + \\frac{ - 4 \\lambda^{2}}{1 + \\lambda} + 5 \\lambda} + \\frac{ - \\lambda^{2}}{1 + \\lambda} + 6 \\lambda} + \\frac{ - \\left( \\frac{ - \\left( \\frac{ - \\left( \\frac{2 \\lambda^{2}}{1 + \\lambda} - 4 \\lambda \\right) \\lambda}{1 + \\frac{ - 4 \\lambda^{2}}{1 + \\lambda} + 5 \\lambda} - 4 \\lambda \\right) \\lambda}{1 + \\frac{ - \\left( \\frac{2 \\lambda^{2}}{1 + \\lambda} - 4 \\lambda \\right)^{2}}{1 + \\frac{ - 4 \\lambda^{2}}{1 + \\lambda} + 5 \\lambda} + \\frac{ - \\lambda^{2}}{1 + \\lambda} + 6 \\lambda} - 4 \\lambda \\right)^{2}}{1 + \\frac{ - \\lambda^{2}}{1 + \\frac{ - 4 \\lambda^{2}}{1 + \\lambda} + 5 \\lambda} + \\frac{ - \\left( \\frac{ - \\left( \\frac{2 \\lambda^{2}}{1 + \\lambda} - 4 \\lambda \\right) \\lambda}{1 + \\frac{ - 4 \\lambda^{2}}{1 + \\lambda} + 5 \\lambda} - 4 \\lambda \\right)^{2}}{1 + \\frac{ - \\left( \\frac{2 \\lambda^{2}}{1 + \\lambda} - 4 \\lambda \\right)^{2}}{1 + \\frac{ - 4 \\lambda^{2}}{1 + \\lambda} + 5 \\lambda} + \\frac{ - \\lambda^{2}}{1 + \\lambda} + 6 \\lambda} + 6 \\lambda} + 6 \\lambda} - 4 \\lambda \\right) \\lambda}{1 + \\frac{ - \\lambda^{2}}{1 + \\frac{ - \\lambda^{2}}{1 + \\frac{ - 4 \\lambda^{2}}{1 + \\lambda} + 5 \\lambda} + \\frac{ - \\left( \\frac{ - \\left( \\frac{2 \\lambda^{2}}{1 + \\lambda} - 4 \\lambda \\right) \\lambda}{1 + \\frac{ - 4 \\lambda^{2}}{1 + \\lambda} + 5 \\lambda} - 4 \\lambda \\right)^{2}}{1 + \\frac{ - \\left( \\frac{2 \\lambda^{2}}{1 + \\lambda} - 4 \\lambda \\right)^{2}}{1 + \\frac{ - 4 \\lambda^{2}}{1 + \\lambda} + 5 \\lambda} + \\frac{ - \\lambda^{2}}{1 + \\lambda} + 6 \\lambda} + 6 \\lambda} + \\frac{ - \\left( \\frac{ - \\left( \\frac{ - \\left( \\frac{ - \\left( \\frac{2 \\lambda^{2}}{1 + \\lambda} - 4 \\lambda \\right) \\lambda}{1 + \\frac{ - 4 \\lambda^{2}}{1 + \\lambda} + 5 \\lambda} - 4 \\lambda \\right) \\lambda}{1 + \\frac{ - \\left( \\frac{2 \\lambda^{2}}{1 + \\lambda} - 4 \\lambda \\right)^{2}}{1 + \\frac{ - 4 \\lambda^{2}}{1 + \\lambda} + 5 \\lambda} + \\frac{ - \\lambda^{2}}{1 + \\lambda} + 6 \\lambda} - 4 \\lambda \\right) \\lambda}{1 + \\frac{ - \\lambda^{2}}{1 + \\frac{ - 4 \\lambda^{2}}{1 + \\lambda} + 5 \\lambda} + \\frac{ - \\left( \\frac{ - \\left( \\frac{2 \\lambda^{2}}{1 + \\lambda} - 4 \\lambda \\right) \\lambda}{1 + \\frac{ - 4 \\lambda^{2}}{1 + \\lambda} + 5 \\lambda} - 4 \\lambda \\right)^{2}}{1 + \\frac{ - \\left( \\frac{2 \\lambda^{2}}{1 + \\lambda} - 4 \\lambda \\right)^{2}}{1 + \\frac{ - 4 \\lambda^{2}}{1 + \\lambda} + 5 \\lambda} + \\frac{ - \\lambda^{2}}{1 + \\lambda} + 6 \\lambda} + 6 \\lambda} - 4 \\lambda \\right)^{2}}{1 + \\frac{ - \\lambda^{2}}{1 + \\frac{ - \\left( \\frac{2 \\lambda^{2}}{1 + \\lambda} - 4 \\lambda \\right)^{2}}{1 + \\frac{ - 4 \\lambda^{2}}{1 + \\lambda} + 5 \\lambda} + \\frac{ - \\lambda^{2}}{1 + \\lambda} + 6 \\lambda} + \\frac{ - \\left( \\frac{ - \\left( \\frac{ - \\left( \\frac{2 \\lambda^{2}}{1 + \\lambda} - 4 \\lambda \\right) \\lambda}{1 + \\frac{ - 4 \\lambda^{2}}{1 + \\lambda} + 5 \\lambda} - 4 \\lambda \\right) \\lambda}{1 + \\frac{ - \\left( \\frac{2 \\lambda^{2}}{1 + \\lambda} - 4 \\lambda \\right)^{2}}{1 + \\frac{ - 4 \\lambda^{2}}{1 + \\lambda} + 5 \\lambda} + \\frac{ - \\lambda^{2}}{1 + \\lambda} + 6 \\lambda} - 4 \\lambda \\right)^{2}}{1 + \\frac{ - \\lambda^{2}}{1 + \\frac{ - 4 \\lambda^{2}}{1 + \\lambda} + 5 \\lambda} + \\frac{ - \\left( \\frac{ - \\left( \\frac{2 \\lambda^{2}}{1 + \\lambda} - 4 \\lambda \\right) \\lambda}{1 + \\frac{ - 4 \\lambda^{2}}{1 + \\lambda} + 5 \\lambda} - 4 \\lambda \\right)^{2}}{1 + \\frac{ - \\left( \\frac{2 \\lambda^{2}}{1 + \\lambda} - 4 \\lambda \\right)^{2}}{1 + \\frac{ - 4 \\lambda^{2}}{1 + \\lambda} + 5 \\lambda} + \\frac{ - \\lambda^{2}}{1 + \\lambda} + 6 \\lambda} + 6 \\lambda} + 6 \\lambda} + 6 \\lambda} - 2 \\lambda}{1 + \\frac{ - \\lambda^{2}}{1 + \\frac{ - \\lambda^{2}}{1 + \\frac{ - \\left( \\frac{2 \\lambda^{2}}{1 + \\lambda} - 4 \\lambda \\right)^{2}}{1 + \\frac{ - 4 \\lambda^{2}}{1 + \\lambda} + 5 \\lambda} + \\frac{ - \\lambda^{2}}{1 + \\lambda} + 6 \\lambda} + \\frac{ - \\left( \\frac{ - \\left( \\frac{ - \\left( \\frac{2 \\lambda^{2}}{1 + \\lambda} - 4 \\lambda \\right) \\lambda}{1 + \\frac{ - 4 \\lambda^{2}}{1 + \\lambda} + 5 \\lambda} - 4 \\lambda \\right) \\lambda}{1 + \\frac{ - \\left( \\frac{2 \\lambda^{2}}{1 + \\lambda} - 4 \\lambda \\right)^{2}}{1 + \\frac{ - 4 \\lambda^{2}}{1 + \\lambda} + 5 \\lambda} + \\frac{ - \\lambda^{2}}{1 + \\lambda} + 6 \\lambda} - 4 \\lambda \\right)^{2}}{1 + \\frac{ - \\lambda^{2}}{1 + \\frac{ - 4 \\lambda^{2}}{1 + \\lambda} + 5 \\lambda} + \\frac{ - \\left( \\frac{ - \\left( \\frac{2 \\lambda^{2}}{1 + \\lambda} - 4 \\lambda \\right) \\lambda}{1 + \\frac{ - 4 \\lambda^{2}}{1 + \\lambda} + 5 \\lambda} - 4 \\lambda \\right)^{2}}{1 + \\frac{ - \\left( \\frac{2 \\lambda^{2}}{1 + \\lambda} - 4 \\lambda \\right)^{2}}{1 + \\frac{ - 4 \\lambda^{2}}{1 + \\lambda} + 5 \\lambda} + \\frac{ - \\lambda^{2}}{1 + \\lambda} + 6 \\lambda} + 6 \\lambda} + 6 \\lambda} + \\frac{ - \\left( \\frac{ - \\left( \\frac{ - \\left( \\frac{ - \\left( \\frac{ - \\left( \\frac{2 \\lambda^{2}}{1 + \\lambda} - 4 \\lambda \\right) \\lambda}{1 + \\frac{ - 4 \\lambda^{2}}{1 + \\lambda} + 5 \\lambda} - 4 \\lambda \\right) \\lambda}{1 + \\frac{ - \\left( \\frac{2 \\lambda^{2}}{1 + \\lambda} - 4 \\lambda \\right)^{2}}{1 + \\frac{ - 4 \\lambda^{2}}{1 + \\lambda} + 5 \\lambda} + \\frac{ - \\lambda^{2}}{1 + \\lambda} + 6 \\lambda} - 4 \\lambda \\right) \\lambda}{1 + \\frac{ - \\lambda^{2}}{1 + \\frac{ - 4 \\lambda^{2}}{1 + \\lambda} + 5 \\lambda} + \\frac{ - \\left( \\frac{ - \\left( \\frac{2 \\lambda^{2}}{1 + \\lambda} - 4 \\lambda \\right) \\lambda}{1 + \\frac{ - 4 \\lambda^{2}}{1 + \\lambda} + 5 \\lambda} - 4 \\lambda \\right)^{2}}{1 + \\frac{ - \\left( \\frac{2 \\lambda^{2}}{1 + \\lambda} - 4 \\lambda \\right)^{2}}{1 + \\frac{ - 4 \\lambda^{2}}{1 + \\lambda} + 5 \\lambda} + \\frac{ - \\lambda^{2}}{1 + \\lambda} + 6 \\lambda} + 6 \\lambda} - 4 \\lambda \\right) \\lambda}{1 + \\frac{ - \\lambda^{2}}{1 + \\frac{ - \\left( \\frac{2 \\lambda^{2}}{1 + \\lambda} - 4 \\lambda \\right)^{2}}{1 + \\frac{ - 4 \\lambda^{2}}{1 + \\lambda} + 5 \\lambda} + \\frac{ - \\lambda^{2}}{1 + \\lambda} + 6 \\lambda} + \\frac{ - \\left( \\frac{ - \\left( \\frac{ - \\left( \\frac{2 \\lambda^{2}}{1 + \\lambda} - 4 \\lambda \\right) \\lambda}{1 + \\frac{ - 4 \\lambda^{2}}{1 + \\lambda} + 5 \\lambda} - 4 \\lambda \\right) \\lambda}{1 + \\frac{ - \\left( \\frac{2 \\lambda^{2}}{1 + \\lambda} - 4 \\lambda \\right)^{2}}{1 + \\frac{ - 4 \\lambda^{2}}{1 + \\lambda} + 5 \\lambda} + \\frac{ - \\lambda^{2}}{1 + \\lambda} + 6 \\lambda} - 4 \\lambda \\right)^{2}}{1 + \\frac{ - \\lambda^{2}}{1 + \\frac{ - 4 \\lambda^{2}}{1 + \\lambda} + 5 \\lambda} + \\frac{ - \\left( \\frac{ - \\left( \\frac{2 \\lambda^{2}}{1 + \\lambda} - 4 \\lambda \\right) \\lambda}{1 + \\frac{ - 4 \\lambda^{2}}{1 + \\lambda} + 5 \\lambda} - 4 \\lambda \\right)^{2}}{1 + \\frac{ - \\left( \\frac{2 \\lambda^{2}}{1 + \\lambda} - 4 \\lambda \\right)^{2}}{1 + \\frac{ - 4 \\lambda^{2}}{1 + \\lambda} + 5 \\lambda} + \\frac{ - \\lambda^{2}}{1 + \\lambda} + 6 \\lambda} + 6 \\lambda} + 6 \\lambda} - 4 \\lambda \\right)^{2}}{1 + \\frac{ - \\lambda^{2}}{1 + \\frac{ - \\lambda^{2}}{1 + \\frac{ - 4 \\lambda^{2}}{1 + \\lambda} + 5 \\lambda} + \\frac{ - \\left( \\frac{ - \\left( \\frac{2 \\lambda^{2}}{1 + \\lambda} - 4 \\lambda \\right) \\lambda}{1 + \\frac{ - 4 \\lambda^{2}}{1 + \\lambda} + 5 \\lambda} - 4 \\lambda \\right)^{2}}{1 + \\frac{ - \\left( \\frac{2 \\lambda^{2}}{1 + \\lambda} - 4 \\lambda \\right)^{2}}{1 + \\frac{ - 4 \\lambda^{2}}{1 + \\lambda} + 5 \\lambda} + \\frac{ - \\lambda^{2}}{1 + \\lambda} + 6 \\lambda} + 6 \\lambda} + \\frac{ - \\left( \\frac{ - \\left( \\frac{ - \\left( \\frac{ - \\left( \\frac{2 \\lambda^{2}}{1 + \\lambda} - 4 \\lambda \\right) \\lambda}{1 + \\frac{ - 4 \\lambda^{2}}{1 + \\lambda} + 5 \\lambda} - 4 \\lambda \\right) \\lambda}{1 + \\frac{ - \\left( \\frac{2 \\lambda^{2}}{1 + \\lambda} - 4 \\lambda \\right)^{2}}{1 + \\frac{ - 4 \\lambda^{2}}{1 + \\lambda} + 5 \\lambda} + \\frac{ - \\lambda^{2}}{1 + \\lambda} + 6 \\lambda} - 4 \\lambda \\right) \\lambda}{1 + \\frac{ - \\lambda^{2}}{1 + \\frac{ - 4 \\lambda^{2}}{1 + \\lambda} + 5 \\lambda} + \\frac{ - \\left( \\frac{ - \\left( \\frac{2 \\lambda^{2}}{1 + \\lambda} - 4 \\lambda \\right) \\lambda}{1 + \\frac{ - 4 \\lambda^{2}}{1 + \\lambda} + 5 \\lambda} - 4 \\lambda \\right)^{2}}{1 + \\frac{ - \\left( \\frac{2 \\lambda^{2}}{1 + \\lambda} - 4 \\lambda \\right)^{2}}{1 + \\frac{ - 4 \\lambda^{2}}{1 + \\lambda} + 5 \\lambda} + \\frac{ - \\lambda^{2}}{1 + \\lambda} + 6 \\lambda} + 6 \\lambda} - 4 \\lambda \\right)^{2}}{1 + \\frac{ - \\lambda^{2}}{1 + \\frac{ - \\left( \\frac{2 \\lambda^{2}}{1 + \\lambda} - 4 \\lambda \\right)^{2}}{1 + \\frac{ - 4 \\lambda^{2}}{1 + \\lambda} + 5 \\lambda} + \\frac{ - \\lambda^{2}}{1 + \\lambda} + 6 \\lambda} + \\frac{ - \\left( \\frac{ - \\left( \\frac{ - \\left( \\frac{2 \\lambda^{2}}{1 + \\lambda} - 4 \\lambda \\right) \\lambda}{1 + \\frac{ - 4 \\lambda^{2}}{1 + \\lambda} + 5 \\lambda} - 4 \\lambda \\right) \\lambda}{1 + \\frac{ - \\left( \\frac{2 \\lambda^{2}}{1 + \\lambda} - 4 \\lambda \\right)^{2}}{1 + \\frac{ - 4 \\lambda^{2}}{1 + \\lambda} + 5 \\lambda} + \\frac{ - \\lambda^{2}}{1 + \\lambda} + 6 \\lambda} - 4 \\lambda \\right)^{2}}{1 + \\frac{ - \\lambda^{2}}{1 + \\frac{ - 4 \\lambda^{2}}{1 + \\lambda} + 5 \\lambda} + \\frac{ - \\left( \\frac{ - \\left( \\frac{2 \\lambda^{2}}{1 + \\lambda} - 4 \\lambda \\right) \\lambda}{1 + \\frac{ - 4 \\lambda^{2}}{1 + \\lambda} + 5 \\lambda} - 4 \\lambda \\right)^{2}}{1 + \\frac{ - \\left( \\frac{2 \\lambda^{2}}{1 + \\lambda} - 4 \\lambda \\right)^{2}}{1 + \\frac{ - 4 \\lambda^{2}}{1 + \\lambda} + 5 \\lambda} + \\frac{ - \\lambda^{2}}{1 + \\lambda} + 6 \\lambda} + 6 \\lambda} + 6 \\lambda} + 6 \\lambda} + 5 \\lambda} & 1 \\\\\n",
       "\\end{array}\n",
       "\\right]\n",
       "\\end{equation}\n",
       " $$"
      ],
      "text/plain": [
       "8×8 Matrix{Num}:\n",
       "      1                  …  0\n",
       "    (-2.0λ) / (1.0 + λ)     0\n",
       " λ / (1.0 + λ)              0\n",
       "      0.0                   0\n",
       "      0.0                   0\n",
       "      0.0                …  0\n",
       "      0.0                   0\n",
       "      0.0                   1"
      ]
     },
     "execution_count": 81,
     "metadata": {},
     "output_type": "execute_result"
    }
   ],
   "source": [
    "r = lu(M)\n",
    "## lu采用for循环的形式，\n",
    "r.L\n",
    "# r.U"
   ]
  }
 ],
 "metadata": {
  "kernelspec": {
   "display_name": "Julia 1.10.0",
   "language": "julia",
   "name": "julia-1.10"
  },
  "language_info": {
   "file_extension": ".jl",
   "mimetype": "application/julia",
   "name": "julia",
   "version": "1.10.0"
  }
 },
 "nbformat": 4,
 "nbformat_minor": 5
}
