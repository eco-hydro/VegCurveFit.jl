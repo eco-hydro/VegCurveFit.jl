{
 "cells": [
  {
   "cell_type": "code",
   "execution_count": 7,
   "id": "8717e83f-8793-45a4-8cc0-228e60917acd",
   "metadata": {},
   "outputs": [
    {
     "data": {
      "text/plain": [
       "LU_decompose (generic function with 1 method)"
      ]
     },
     "metadata": {},
     "output_type": "display_data"
    }
   ],
   "source": [
    "include(\"main_whit.jl\")"
   ]
  },
  {
   "cell_type": "code",
   "execution_count": 9,
   "id": "0b3d0446-5bf2-494d-9a96-efa5b7ee07ad",
   "metadata": {},
   "outputs": [
    {
     "data": {
      "text/plain": [
       "6×8 SparseMatrixCSC{Int64, Int64} with 18 stored entries:\n",
       " 1  -2   1   ⋅   ⋅   ⋅   ⋅  ⋅\n",
       " ⋅   1  -2   1   ⋅   ⋅   ⋅  ⋅\n",
       " ⋅   ⋅   1  -2   1   ⋅   ⋅  ⋅\n",
       " ⋅   ⋅   ⋅   1  -2   1   ⋅  ⋅\n",
       " ⋅   ⋅   ⋅   ⋅   1  -2   1  ⋅\n",
       " ⋅   ⋅   ⋅   ⋅   ⋅   1  -2  1"
      ]
     },
     "metadata": {},
     "output_type": "display_data"
    },
    {
     "data": {
      "text/latex": [
       "$$ \\begin{equation}\n",
       "\\left[\n",
       "\\begin{array}{cccccccc}\n",
       "1 + \\lambda &  - 2 \\lambda & \\lambda & 0 & 0 & 0 & 0 & 0 \\\\\n",
       " - 2 \\lambda & 1 + 5 \\lambda &  - 4 \\lambda & \\lambda & 0 & 0 & 0 & 0 \\\\\n",
       "\\lambda &  - 4 \\lambda & 1 + 6 \\lambda &  - 4 \\lambda & \\lambda & 0 & 0 & 0 \\\\\n",
       "0 & \\lambda &  - 4 \\lambda & 1 + 6 \\lambda &  - 4 \\lambda & \\lambda & 0 & 0 \\\\\n",
       "0 & 0 & \\lambda &  - 4 \\lambda & 1 + 6 \\lambda &  - 4 \\lambda & \\lambda & 0 \\\\\n",
       "0 & 0 & 0 & \\lambda &  - 4 \\lambda & 1 + 6 \\lambda &  - 4 \\lambda & \\lambda \\\\\n",
       "0 & 0 & 0 & 0 & \\lambda &  - 4 \\lambda & 1 + 5 \\lambda &  - 2 \\lambda \\\\\n",
       "0 & 0 & 0 & 0 & 0 & \\lambda &  - 2 \\lambda & 1 + \\lambda \\\\\n",
       "\\end{array}\n",
       "\\right]\n",
       "\\end{equation}\n",
       " $$"
      ],
      "text/plain": [
       "8×8 Matrix{Num}:\n",
       "   1.0 + λ  -2λ           λ         …    0.0         0.0         0.0\n",
       " -2λ          1.0 + 5λ  -4λ              0.0         0.0         0.0\n",
       "   λ        -4λ           1.0 + 6λ       0.0         0.0         0.0\n",
       "   0.0        λ         -4λ              λ           0.0         0.0\n",
       "   0.0        0.0         λ            -4λ           λ           0.0\n",
       "   0.0        0.0         0.0       …    1.0 + 6λ  -4λ           λ\n",
       "   0.0        0.0         0.0          -4λ           1.0 + 5λ  -2λ\n",
       "   0.0        0.0         0.0            λ         -2λ           1.0 + λ"
      ]
     },
     "metadata": {},
     "output_type": "display_data"
    }
   ],
   "source": [
    "n = 8\n",
    "D = ddmat(1:n, 2)\n",
    "display(D)\n",
    "\n",
    "M = diagm(ones(n)) + λ * D' * D\n",
    "# ddmat(ddmat(1:n, 1), 1)"
   ]
  },
  {
   "cell_type": "code",
   "execution_count": 10,
   "id": "51947888-a1e3-4ade-9df4-dc4caeb2add2",
   "metadata": {},
   "outputs": [
    {
     "data": {
      "text/latex": [
       "$$ \\begin{equation}\n",
       "\\left[\n",
       "\\begin{array}{cccccccc}\n",
       "1 & 0 & 0 & 0 & 0 & 0 & 0 & 0 \\\\\n",
       "\\frac{ - 2 \\lambda}{1 + \\lambda} & 1 & 0 & 0 & 0 & 0 & 0 & 0 \\\\\n",
       "\\frac{\\lambda}{1 + \\lambda} & \\frac{\\frac{2 \\lambda^{2}}{1 + \\lambda} - 4 \\lambda}{1 + \\frac{ - 4 \\lambda^{2}}{1 + \\lambda} + 5 \\lambda} & 1 & 0 & 0 & 0 & 0 & 0 \\\\\n",
       "0 & \\frac{\\lambda}{1 + \\frac{ - 4 \\lambda^{2}}{1 + \\lambda} + 5 \\lambda} & \\frac{\\frac{ - \\left( \\frac{2 \\lambda^{2}}{1 + \\lambda} - 4 \\lambda \\right) \\lambda}{1 + \\frac{ - 4 \\lambda^{2}}{1 + \\lambda} + 5 \\lambda} - 4 \\lambda}{1 + \\frac{ - \\left( \\frac{2 \\lambda^{2}}{1 + \\lambda} - 4 \\lambda \\right)^{2}}{1 + \\frac{ - 4 \\lambda^{2}}{1 + \\lambda} + 5 \\lambda} + \\frac{ - \\lambda^{2}}{1 + \\lambda} + 6 \\lambda} & 1 & 0 & 0 & 0 & 0 \\\\\n",
       "0 & 0 & \\frac{\\lambda}{1 + \\frac{ - \\left( \\frac{2 \\lambda^{2}}{1 + \\lambda} - 4 \\lambda \\right)^{2}}{1 + \\frac{ - 4 \\lambda^{2}}{1 + \\lambda} + 5 \\lambda} + \\frac{ - \\lambda^{2}}{1 + \\lambda} + 6 \\lambda} & 0 & 1 & 0 & 0 & 0 \\\\\n",
       "0 & 0 & 0 & 0 & 0 & 1 & 0 & 0 \\\\\n",
       "0 & 0 & 0 & 0 & 0 & 0 & 1 & 0 \\\\\n",
       "0 & 0 & 0 & 0 & 0 & 0 & 0 & 1 \\\\\n",
       "\\end{array}\n",
       "\\right]\n",
       "\\end{equation}\n",
       " $$"
      ],
      "text/plain": [
       "8×8 Matrix{Num}:\n",
       "          1.0       …  0.0  0.0  0.0  0.0  0.0\n",
       " (-2λ) / (1.0 + λ)     0.0  0.0  0.0  0.0  0.0\n",
       "     λ / (1.0 + λ)     0.0  0.0  0.0  0.0  0.0\n",
       "          0.0          1.0  0.0  0.0  0.0  0.0\n",
       "          0.0          0.0  1.0  0.0  0.0  0.0\n",
       "          0.0       …  0.0  0.0  1.0  0.0  0.0\n",
       "          0.0          0.0  0.0  0.0  1.0  0.0\n",
       "          0.0          0.0  0.0  0.0  0.0  1.0"
      ]
     },
     "metadata": {},
     "output_type": "display_data"
    },
    {
     "data": {
      "text/latex": [
       "$$ \\begin{equation}\n",
       "\\left[\n",
       "\\begin{array}{cccccccc}\n",
       "1 + \\lambda &  - 2 \\lambda & \\lambda & 0 & 0 & 0 & 0 & 0 \\\\\n",
       "0 & 1 + \\frac{ - 4 \\lambda^{2}}{1 + \\lambda} + 5 \\lambda & \\frac{2 \\lambda^{2}}{1 + \\lambda} - 4 \\lambda & \\lambda & 0 & 0 & 0 & 0 \\\\\n",
       "0 & 0 & 1 + \\frac{ - \\left( \\frac{2 \\lambda^{2}}{1 + \\lambda} - 4 \\lambda \\right)^{2}}{1 + \\frac{ - 4 \\lambda^{2}}{1 + \\lambda} + 5 \\lambda} + \\frac{ - \\lambda^{2}}{1 + \\lambda} + 6 \\lambda & \\frac{ - \\left( \\frac{2 \\lambda^{2}}{1 + \\lambda} - 4 \\lambda \\right) \\lambda}{1 + \\frac{ - 4 \\lambda^{2}}{1 + \\lambda} + 5 \\lambda} - 4 \\lambda & \\lambda & 0 & 0 & 0 \\\\\n",
       "0 & 0 & 0 & 1 + \\frac{ - \\lambda^{2}}{1 + \\frac{ - 4 \\lambda^{2}}{1 + \\lambda} + 5 \\lambda} + \\frac{ - \\left( \\frac{ - \\left( \\frac{2 \\lambda^{2}}{1 + \\lambda} - 4 \\lambda \\right) \\lambda}{1 + \\frac{ - 4 \\lambda^{2}}{1 + \\lambda} + 5 \\lambda} - 4 \\lambda \\right)^{2}}{1 + \\frac{ - \\left( \\frac{2 \\lambda^{2}}{1 + \\lambda} - 4 \\lambda \\right)^{2}}{1 + \\frac{ - 4 \\lambda^{2}}{1 + \\lambda} + 5 \\lambda} + \\frac{ - \\lambda^{2}}{1 + \\lambda} + 6 \\lambda} + 6 \\lambda & \\frac{ - \\left( \\frac{ - \\left( \\frac{2 \\lambda^{2}}{1 + \\lambda} - 4 \\lambda \\right) \\lambda}{1 + \\frac{ - 4 \\lambda^{2}}{1 + \\lambda} + 5 \\lambda} - 4 \\lambda \\right) \\lambda}{1 + \\frac{ - \\left( \\frac{2 \\lambda^{2}}{1 + \\lambda} - 4 \\lambda \\right)^{2}}{1 + \\frac{ - 4 \\lambda^{2}}{1 + \\lambda} + 5 \\lambda} + \\frac{ - \\lambda^{2}}{1 + \\lambda} + 6 \\lambda} - 4 \\lambda & \\lambda & 0 & 0 \\\\\n",
       "0 & 0 & 0 & \\frac{ - \\left( \\frac{ - \\left( \\frac{2 \\lambda^{2}}{1 + \\lambda} - 4 \\lambda \\right) \\lambda}{1 + \\frac{ - 4 \\lambda^{2}}{1 + \\lambda} + 5 \\lambda} - 4 \\lambda \\right) \\lambda}{1 + \\frac{ - \\left( \\frac{2 \\lambda^{2}}{1 + \\lambda} - 4 \\lambda \\right)^{2}}{1 + \\frac{ - 4 \\lambda^{2}}{1 + \\lambda} + 5 \\lambda} + \\frac{ - \\lambda^{2}}{1 + \\lambda} + 6 \\lambda} - 4 \\lambda & 1 + \\frac{ - \\lambda^{2}}{1 + \\frac{ - \\left( \\frac{2 \\lambda^{2}}{1 + \\lambda} - 4 \\lambda \\right)^{2}}{1 + \\frac{ - 4 \\lambda^{2}}{1 + \\lambda} + 5 \\lambda} + \\frac{ - \\lambda^{2}}{1 + \\lambda} + 6 \\lambda} + 6 \\lambda &  - 4 \\lambda & \\lambda & 0 \\\\\n",
       "0 & 0 & 0 & \\lambda &  - 4 \\lambda & 1 + 6 \\lambda &  - 4 \\lambda & \\lambda \\\\\n",
       "0 & 0 & 0 & 0 & \\lambda &  - 4 \\lambda & 1 + 5 \\lambda &  - 2 \\lambda \\\\\n",
       "0 & 0 & 0 & 0 & 0 & \\lambda &  - 2 \\lambda & 1 + \\lambda \\\\\n",
       "\\end{array}\n",
       "\\right]\n",
       "\\end{equation}\n",
       " $$"
      ],
      "text/plain": [
       "8×8 Matrix{Num}:\n",
       " 1.0 + λ  …    0.0         0.0         0.0\n",
       " 0             0.0         0.0         0.0\n",
       " 0             0.0         0.0         0.0\n",
       " 0.0           λ           0.0         0.0\n",
       " 0.0         -4λ           λ           0.0\n",
       " 0.0      …    1.0 + 6λ  -4λ           λ\n",
       " 0.0         -4λ           1.0 + 5λ  -2λ\n",
       " 0.0           λ         -2λ           1.0 + λ"
      ]
     },
     "metadata": {},
     "output_type": "display_data"
    }
   ],
   "source": [
    "U = deepcopy(M)\n",
    "L = typeof(U)(diagm(ones(n)))\n",
    "\n",
    "# 仅运行三次，猜测公式的形式\n",
    "for i = 1:3\n",
    "    r1 = U[i, :]\n",
    "    for j = i+1:min(i+2, n)\n",
    "        f = U[j, i] / U[i, i]\n",
    "        L[j, i] = f\n",
    "        U[j, :] .= U[j, :] .- (f * r1)\n",
    "    end\n",
    "end\n",
    "## U\n",
    "## Elier采用的是LU分解 \n",
    "display(L)\n",
    "display(U)\n"
   ]
  },
  {
   "cell_type": "code",
   "execution_count": null,
   "id": "c80fd687-a0d6-4f73-8e6d-cb4158065161",
   "metadata": {},
   "outputs": [],
   "source": [
    "# U = deepcopy(M)\n",
    "# L,U = LU_decompose(U)\n",
    "# L"
   ]
  },
  {
   "cell_type": "code",
   "execution_count": 11,
   "id": "709c66c6-8ba1-40d5-8d5b-7021c64e0cb7",
   "metadata": {},
   "outputs": [
    {
     "data": {
      "text/latex": [
       "$$ \\begin{equation}\n",
       "\\left[\n",
       "\\begin{array}{cccccccc}\n",
       "1 & 0 & 0 & 0 & 0 & 0 & 0 & 0 \\\\\n",
       "\\frac{ - 2 \\lambda}{1 + \\lambda} & 1 & 0 & 0 & 0 & 0 & 0 & 0 \\\\\n",
       "\\frac{\\lambda}{1 + \\lambda} & \\frac{\\frac{2 \\lambda^{2}}{1 + \\lambda} - 4 \\lambda}{1 + \\frac{ - 4 \\lambda^{2}}{1 + \\lambda} + 5 \\lambda} & 1 & 0 & 0 & 0 & 0 & 0 \\\\\n",
       "0 & \\frac{\\lambda}{1 + \\frac{ - 4 \\lambda^{2}}{1 + \\lambda} + 5 \\lambda} & \\frac{\\frac{ - \\left( \\frac{2 \\lambda^{2}}{1 + \\lambda} - 4 \\lambda \\right) \\lambda}{1 + \\frac{ - 4 \\lambda^{2}}{1 + \\lambda} + 5 \\lambda} - 4 \\lambda}{1 + \\frac{ - \\left( \\frac{2 \\lambda^{2}}{1 + \\lambda} - 4 \\lambda \\right)^{2}}{1 + \\frac{ - 4 \\lambda^{2}}{1 + \\lambda} + 5 \\lambda} + \\frac{ - \\lambda^{2}}{1 + \\lambda} + 6 \\lambda} & 1 & 0 & 0 & 0 & 0 \\\\\n",
       "0 & 0 & \\frac{\\lambda}{1 + \\frac{ - \\left( \\frac{2 \\lambda^{2}}{1 + \\lambda} - 4 \\lambda \\right)^{2}}{1 + \\frac{ - 4 \\lambda^{2}}{1 + \\lambda} + 5 \\lambda} + \\frac{ - \\lambda^{2}}{1 + \\lambda} + 6 \\lambda} & \\frac{\\frac{ - \\left( \\frac{ - \\left( \\frac{2 \\lambda^{2}}{1 + \\lambda} - 4 \\lambda \\right) \\lambda}{1 + \\frac{ - 4 \\lambda^{2}}{1 + \\lambda} + 5 \\lambda} - 4 \\lambda \\right) \\lambda}{1 + \\frac{ - \\left( \\frac{2 \\lambda^{2}}{1 + \\lambda} - 4 \\lambda \\right)^{2}}{1 + \\frac{ - 4 \\lambda^{2}}{1 + \\lambda} + 5 \\lambda} + \\frac{ - \\lambda^{2}}{1 + \\lambda} + 6 \\lambda} - 4 \\lambda}{1 + \\frac{ - \\lambda^{2}}{1 + \\frac{ - 4 \\lambda^{2}}{1 + \\lambda} + 5 \\lambda} + \\frac{ - \\left( \\frac{ - \\left( \\frac{2 \\lambda^{2}}{1 + \\lambda} - 4 \\lambda \\right) \\lambda}{1 + \\frac{ - 4 \\lambda^{2}}{1 + \\lambda} + 5 \\lambda} - 4 \\lambda \\right)^{2}}{1 + \\frac{ - \\left( \\frac{2 \\lambda^{2}}{1 + \\lambda} - 4 \\lambda \\right)^{2}}{1 + \\frac{ - 4 \\lambda^{2}}{1 + \\lambda} + 5 \\lambda} + \\frac{ - \\lambda^{2}}{1 + \\lambda} + 6 \\lambda} + 6 \\lambda} & 1 & 0 & 0 & 0 \\\\\n",
       "0 & 0 & 0 & \\frac{\\lambda}{1 + \\frac{ - \\lambda^{2}}{1 + \\frac{ - 4 \\lambda^{2}}{1 + \\lambda} + 5 \\lambda} + \\frac{ - \\left( \\frac{ - \\left( \\frac{2 \\lambda^{2}}{1 + \\lambda} - 4 \\lambda \\right) \\lambda}{1 + \\frac{ - 4 \\lambda^{2}}{1 + \\lambda} + 5 \\lambda} - 4 \\lambda \\right)^{2}}{1 + \\frac{ - \\left( \\frac{2 \\lambda^{2}}{1 + \\lambda} - 4 \\lambda \\right)^{2}}{1 + \\frac{ - 4 \\lambda^{2}}{1 + \\lambda} + 5 \\lambda} + \\frac{ - \\lambda^{2}}{1 + \\lambda} + 6 \\lambda} + 6 \\lambda} & \\frac{\\frac{ - \\left( \\frac{ - \\left( \\frac{ - \\left( \\frac{2 \\lambda^{2}}{1 + \\lambda} - 4 \\lambda \\right) \\lambda}{1 + \\frac{ - 4 \\lambda^{2}}{1 + \\lambda} + 5 \\lambda} - 4 \\lambda \\right) \\lambda}{1 + \\frac{ - \\left( \\frac{2 \\lambda^{2}}{1 + \\lambda} - 4 \\lambda \\right)^{2}}{1 + \\frac{ - 4 \\lambda^{2}}{1 + \\lambda} + 5 \\lambda} + \\frac{ - \\lambda^{2}}{1 + \\lambda} + 6 \\lambda} - 4 \\lambda \\right) \\lambda}{1 + \\frac{ - \\lambda^{2}}{1 + \\frac{ - 4 \\lambda^{2}}{1 + \\lambda} + 5 \\lambda} + \\frac{ - \\left( \\frac{ - \\left( \\frac{2 \\lambda^{2}}{1 + \\lambda} - 4 \\lambda \\right) \\lambda}{1 + \\frac{ - 4 \\lambda^{2}}{1 + \\lambda} + 5 \\lambda} - 4 \\lambda \\right)^{2}}{1 + \\frac{ - \\left( \\frac{2 \\lambda^{2}}{1 + \\lambda} - 4 \\lambda \\right)^{2}}{1 + \\frac{ - 4 \\lambda^{2}}{1 + \\lambda} + 5 \\lambda} + \\frac{ - \\lambda^{2}}{1 + \\lambda} + 6 \\lambda} + 6 \\lambda} - 4 \\lambda}{1 + \\frac{ - \\lambda^{2}}{1 + \\frac{ - \\left( \\frac{2 \\lambda^{2}}{1 + \\lambda} - 4 \\lambda \\right)^{2}}{1 + \\frac{ - 4 \\lambda^{2}}{1 + \\lambda} + 5 \\lambda} + \\frac{ - \\lambda^{2}}{1 + \\lambda} + 6 \\lambda} + \\frac{ - \\left( \\frac{ - \\left( \\frac{ - \\left( \\frac{2 \\lambda^{2}}{1 + \\lambda} - 4 \\lambda \\right) \\lambda}{1 + \\frac{ - 4 \\lambda^{2}}{1 + \\lambda} + 5 \\lambda} - 4 \\lambda \\right) \\lambda}{1 + \\frac{ - \\left( \\frac{2 \\lambda^{2}}{1 + \\lambda} - 4 \\lambda \\right)^{2}}{1 + \\frac{ - 4 \\lambda^{2}}{1 + \\lambda} + 5 \\lambda} + \\frac{ - \\lambda^{2}}{1 + \\lambda} + 6 \\lambda} - 4 \\lambda \\right)^{2}}{1 + \\frac{ - \\lambda^{2}}{1 + \\frac{ - 4 \\lambda^{2}}{1 + \\lambda} + 5 \\lambda} + \\frac{ - \\left( \\frac{ - \\left( \\frac{2 \\lambda^{2}}{1 + \\lambda} - 4 \\lambda \\right) \\lambda}{1 + \\frac{ - 4 \\lambda^{2}}{1 + \\lambda} + 5 \\lambda} - 4 \\lambda \\right)^{2}}{1 + \\frac{ - \\left( \\frac{2 \\lambda^{2}}{1 + \\lambda} - 4 \\lambda \\right)^{2}}{1 + \\frac{ - 4 \\lambda^{2}}{1 + \\lambda} + 5 \\lambda} + \\frac{ - \\lambda^{2}}{1 + \\lambda} + 6 \\lambda} + 6 \\lambda} + 6 \\lambda} & 1 & 0 & 0 \\\\\n",
       "0 & 0 & 0 & 0 & \\frac{\\lambda}{1 + \\frac{ - \\lambda^{2}}{1 + \\frac{ - \\left( \\frac{2 \\lambda^{2}}{1 + \\lambda} - 4 \\lambda \\right)^{2}}{1 + \\frac{ - 4 \\lambda^{2}}{1 + \\lambda} + 5 \\lambda} + \\frac{ - \\lambda^{2}}{1 + \\lambda} + 6 \\lambda} + \\frac{ - \\left( \\frac{ - \\left( \\frac{ - \\left( \\frac{2 \\lambda^{2}}{1 + \\lambda} - 4 \\lambda \\right) \\lambda}{1 + \\frac{ - 4 \\lambda^{2}}{1 + \\lambda} + 5 \\lambda} - 4 \\lambda \\right) \\lambda}{1 + \\frac{ - \\left( \\frac{2 \\lambda^{2}}{1 + \\lambda} - 4 \\lambda \\right)^{2}}{1 + \\frac{ - 4 \\lambda^{2}}{1 + \\lambda} + 5 \\lambda} + \\frac{ - \\lambda^{2}}{1 + \\lambda} + 6 \\lambda} - 4 \\lambda \\right)^{2}}{1 + \\frac{ - \\lambda^{2}}{1 + \\frac{ - 4 \\lambda^{2}}{1 + \\lambda} + 5 \\lambda} + \\frac{ - \\left( \\frac{ - \\left( \\frac{2 \\lambda^{2}}{1 + \\lambda} - 4 \\lambda \\right) \\lambda}{1 + \\frac{ - 4 \\lambda^{2}}{1 + \\lambda} + 5 \\lambda} - 4 \\lambda \\right)^{2}}{1 + \\frac{ - \\left( \\frac{2 \\lambda^{2}}{1 + \\lambda} - 4 \\lambda \\right)^{2}}{1 + \\frac{ - 4 \\lambda^{2}}{1 + \\lambda} + 5 \\lambda} + \\frac{ - \\lambda^{2}}{1 + \\lambda} + 6 \\lambda} + 6 \\lambda} + 6 \\lambda} & \\frac{\\frac{ - \\left( \\frac{ - \\left( \\frac{ - \\left( \\frac{ - \\left( \\frac{2 \\lambda^{2}}{1 + \\lambda} - 4 \\lambda \\right) \\lambda}{1 + \\frac{ - 4 \\lambda^{2}}{1 + \\lambda} + 5 \\lambda} - 4 \\lambda \\right) \\lambda}{1 + \\frac{ - \\left( \\frac{2 \\lambda^{2}}{1 + \\lambda} - 4 \\lambda \\right)^{2}}{1 + \\frac{ - 4 \\lambda^{2}}{1 + \\lambda} + 5 \\lambda} + \\frac{ - \\lambda^{2}}{1 + \\lambda} + 6 \\lambda} - 4 \\lambda \\right) \\lambda}{1 + \\frac{ - \\lambda^{2}}{1 + \\frac{ - 4 \\lambda^{2}}{1 + \\lambda} + 5 \\lambda} + \\frac{ - \\left( \\frac{ - \\left( \\frac{2 \\lambda^{2}}{1 + \\lambda} - 4 \\lambda \\right) \\lambda}{1 + \\frac{ - 4 \\lambda^{2}}{1 + \\lambda} + 5 \\lambda} - 4 \\lambda \\right)^{2}}{1 + \\frac{ - \\left( \\frac{2 \\lambda^{2}}{1 + \\lambda} - 4 \\lambda \\right)^{2}}{1 + \\frac{ - 4 \\lambda^{2}}{1 + \\lambda} + 5 \\lambda} + \\frac{ - \\lambda^{2}}{1 + \\lambda} + 6 \\lambda} + 6 \\lambda} - 4 \\lambda \\right) \\lambda}{1 + \\frac{ - \\lambda^{2}}{1 + \\frac{ - \\left( \\frac{2 \\lambda^{2}}{1 + \\lambda} - 4 \\lambda \\right)^{2}}{1 + \\frac{ - 4 \\lambda^{2}}{1 + \\lambda} + 5 \\lambda} + \\frac{ - \\lambda^{2}}{1 + \\lambda} + 6 \\lambda} + \\frac{ - \\left( \\frac{ - \\left( \\frac{ - \\left( \\frac{2 \\lambda^{2}}{1 + \\lambda} - 4 \\lambda \\right) \\lambda}{1 + \\frac{ - 4 \\lambda^{2}}{1 + \\lambda} + 5 \\lambda} - 4 \\lambda \\right) \\lambda}{1 + \\frac{ - \\left( \\frac{2 \\lambda^{2}}{1 + \\lambda} - 4 \\lambda \\right)^{2}}{1 + \\frac{ - 4 \\lambda^{2}}{1 + \\lambda} + 5 \\lambda} + \\frac{ - \\lambda^{2}}{1 + \\lambda} + 6 \\lambda} - 4 \\lambda \\right)^{2}}{1 + \\frac{ - \\lambda^{2}}{1 + \\frac{ - 4 \\lambda^{2}}{1 + \\lambda} + 5 \\lambda} + \\frac{ - \\left( \\frac{ - \\left( \\frac{2 \\lambda^{2}}{1 + \\lambda} - 4 \\lambda \\right) \\lambda}{1 + \\frac{ - 4 \\lambda^{2}}{1 + \\lambda} + 5 \\lambda} - 4 \\lambda \\right)^{2}}{1 + \\frac{ - \\left( \\frac{2 \\lambda^{2}}{1 + \\lambda} - 4 \\lambda \\right)^{2}}{1 + \\frac{ - 4 \\lambda^{2}}{1 + \\lambda} + 5 \\lambda} + \\frac{ - \\lambda^{2}}{1 + \\lambda} + 6 \\lambda} + 6 \\lambda} + 6 \\lambda} - 4 \\lambda}{1 + \\frac{ - \\lambda^{2}}{1 + \\frac{ - \\lambda^{2}}{1 + \\frac{ - 4 \\lambda^{2}}{1 + \\lambda} + 5 \\lambda} + \\frac{ - \\left( \\frac{ - \\left( \\frac{2 \\lambda^{2}}{1 + \\lambda} - 4 \\lambda \\right) \\lambda}{1 + \\frac{ - 4 \\lambda^{2}}{1 + \\lambda} + 5 \\lambda} - 4 \\lambda \\right)^{2}}{1 + \\frac{ - \\left( \\frac{2 \\lambda^{2}}{1 + \\lambda} - 4 \\lambda \\right)^{2}}{1 + \\frac{ - 4 \\lambda^{2}}{1 + \\lambda} + 5 \\lambda} + \\frac{ - \\lambda^{2}}{1 + \\lambda} + 6 \\lambda} + 6 \\lambda} + \\frac{ - \\left( \\frac{ - \\left( \\frac{ - \\left( \\frac{ - \\left( \\frac{2 \\lambda^{2}}{1 + \\lambda} - 4 \\lambda \\right) \\lambda}{1 + \\frac{ - 4 \\lambda^{2}}{1 + \\lambda} + 5 \\lambda} - 4 \\lambda \\right) \\lambda}{1 + \\frac{ - \\left( \\frac{2 \\lambda^{2}}{1 + \\lambda} - 4 \\lambda \\right)^{2}}{1 + \\frac{ - 4 \\lambda^{2}}{1 + \\lambda} + 5 \\lambda} + \\frac{ - \\lambda^{2}}{1 + \\lambda} + 6 \\lambda} - 4 \\lambda \\right) \\lambda}{1 + \\frac{ - \\lambda^{2}}{1 + \\frac{ - 4 \\lambda^{2}}{1 + \\lambda} + 5 \\lambda} + \\frac{ - \\left( \\frac{ - \\left( \\frac{2 \\lambda^{2}}{1 + \\lambda} - 4 \\lambda \\right) \\lambda}{1 + \\frac{ - 4 \\lambda^{2}}{1 + \\lambda} + 5 \\lambda} - 4 \\lambda \\right)^{2}}{1 + \\frac{ - \\left( \\frac{2 \\lambda^{2}}{1 + \\lambda} - 4 \\lambda \\right)^{2}}{1 + \\frac{ - 4 \\lambda^{2}}{1 + \\lambda} + 5 \\lambda} + \\frac{ - \\lambda^{2}}{1 + \\lambda} + 6 \\lambda} + 6 \\lambda} - 4 \\lambda \\right)^{2}}{1 + \\frac{ - \\lambda^{2}}{1 + \\frac{ - \\left( \\frac{2 \\lambda^{2}}{1 + \\lambda} - 4 \\lambda \\right)^{2}}{1 + \\frac{ - 4 \\lambda^{2}}{1 + \\lambda} + 5 \\lambda} + \\frac{ - \\lambda^{2}}{1 + \\lambda} + 6 \\lambda} + \\frac{ - \\left( \\frac{ - \\left( \\frac{ - \\left( \\frac{2 \\lambda^{2}}{1 + \\lambda} - 4 \\lambda \\right) \\lambda}{1 + \\frac{ - 4 \\lambda^{2}}{1 + \\lambda} + 5 \\lambda} - 4 \\lambda \\right) \\lambda}{1 + \\frac{ - \\left( \\frac{2 \\lambda^{2}}{1 + \\lambda} - 4 \\lambda \\right)^{2}}{1 + \\frac{ - 4 \\lambda^{2}}{1 + \\lambda} + 5 \\lambda} + \\frac{ - \\lambda^{2}}{1 + \\lambda} + 6 \\lambda} - 4 \\lambda \\right)^{2}}{1 + \\frac{ - \\lambda^{2}}{1 + \\frac{ - 4 \\lambda^{2}}{1 + \\lambda} + 5 \\lambda} + \\frac{ - \\left( \\frac{ - \\left( \\frac{2 \\lambda^{2}}{1 + \\lambda} - 4 \\lambda \\right) \\lambda}{1 + \\frac{ - 4 \\lambda^{2}}{1 + \\lambda} + 5 \\lambda} - 4 \\lambda \\right)^{2}}{1 + \\frac{ - \\left( \\frac{2 \\lambda^{2}}{1 + \\lambda} - 4 \\lambda \\right)^{2}}{1 + \\frac{ - 4 \\lambda^{2}}{1 + \\lambda} + 5 \\lambda} + \\frac{ - \\lambda^{2}}{1 + \\lambda} + 6 \\lambda} + 6 \\lambda} + 6 \\lambda} + 6 \\lambda} & 1 & 0 \\\\\n",
       "0 & 0 & 0 & 0 & 0 & \\frac{\\lambda}{1 + \\frac{ - \\lambda^{2}}{1 + \\frac{ - \\lambda^{2}}{1 + \\frac{ - 4 \\lambda^{2}}{1 + \\lambda} + 5 \\lambda} + \\frac{ - \\left( \\frac{ - \\left( \\frac{2 \\lambda^{2}}{1 + \\lambda} - 4 \\lambda \\right) \\lambda}{1 + \\frac{ - 4 \\lambda^{2}}{1 + \\lambda} + 5 \\lambda} - 4 \\lambda \\right)^{2}}{1 + \\frac{ - \\left( \\frac{2 \\lambda^{2}}{1 + \\lambda} - 4 \\lambda \\right)^{2}}{1 + \\frac{ - 4 \\lambda^{2}}{1 + \\lambda} + 5 \\lambda} + \\frac{ - \\lambda^{2}}{1 + \\lambda} + 6 \\lambda} + 6 \\lambda} + \\frac{ - \\left( \\frac{ - \\left( \\frac{ - \\left( \\frac{ - \\left( \\frac{2 \\lambda^{2}}{1 + \\lambda} - 4 \\lambda \\right) \\lambda}{1 + \\frac{ - 4 \\lambda^{2}}{1 + \\lambda} + 5 \\lambda} - 4 \\lambda \\right) \\lambda}{1 + \\frac{ - \\left( \\frac{2 \\lambda^{2}}{1 + \\lambda} - 4 \\lambda \\right)^{2}}{1 + \\frac{ - 4 \\lambda^{2}}{1 + \\lambda} + 5 \\lambda} + \\frac{ - \\lambda^{2}}{1 + \\lambda} + 6 \\lambda} - 4 \\lambda \\right) \\lambda}{1 + \\frac{ - \\lambda^{2}}{1 + \\frac{ - 4 \\lambda^{2}}{1 + \\lambda} + 5 \\lambda} + \\frac{ - \\left( \\frac{ - \\left( \\frac{2 \\lambda^{2}}{1 + \\lambda} - 4 \\lambda \\right) \\lambda}{1 + \\frac{ - 4 \\lambda^{2}}{1 + \\lambda} + 5 \\lambda} - 4 \\lambda \\right)^{2}}{1 + \\frac{ - \\left( \\frac{2 \\lambda^{2}}{1 + \\lambda} - 4 \\lambda \\right)^{2}}{1 + \\frac{ - 4 \\lambda^{2}}{1 + \\lambda} + 5 \\lambda} + \\frac{ - \\lambda^{2}}{1 + \\lambda} + 6 \\lambda} + 6 \\lambda} - 4 \\lambda \\right)^{2}}{1 + \\frac{ - \\lambda^{2}}{1 + \\frac{ - \\left( \\frac{2 \\lambda^{2}}{1 + \\lambda} - 4 \\lambda \\right)^{2}}{1 + \\frac{ - 4 \\lambda^{2}}{1 + \\lambda} + 5 \\lambda} + \\frac{ - \\lambda^{2}}{1 + \\lambda} + 6 \\lambda} + \\frac{ - \\left( \\frac{ - \\left( \\frac{ - \\left( \\frac{2 \\lambda^{2}}{1 + \\lambda} - 4 \\lambda \\right) \\lambda}{1 + \\frac{ - 4 \\lambda^{2}}{1 + \\lambda} + 5 \\lambda} - 4 \\lambda \\right) \\lambda}{1 + \\frac{ - \\left( \\frac{2 \\lambda^{2}}{1 + \\lambda} - 4 \\lambda \\right)^{2}}{1 + \\frac{ - 4 \\lambda^{2}}{1 + \\lambda} + 5 \\lambda} + \\frac{ - \\lambda^{2}}{1 + \\lambda} + 6 \\lambda} - 4 \\lambda \\right)^{2}}{1 + \\frac{ - \\lambda^{2}}{1 + \\frac{ - 4 \\lambda^{2}}{1 + \\lambda} + 5 \\lambda} + \\frac{ - \\left( \\frac{ - \\left( \\frac{2 \\lambda^{2}}{1 + \\lambda} - 4 \\lambda \\right) \\lambda}{1 + \\frac{ - 4 \\lambda^{2}}{1 + \\lambda} + 5 \\lambda} - 4 \\lambda \\right)^{2}}{1 + \\frac{ - \\left( \\frac{2 \\lambda^{2}}{1 + \\lambda} - 4 \\lambda \\right)^{2}}{1 + \\frac{ - 4 \\lambda^{2}}{1 + \\lambda} + 5 \\lambda} + \\frac{ - \\lambda^{2}}{1 + \\lambda} + 6 \\lambda} + 6 \\lambda} + 6 \\lambda} + 6 \\lambda} & \\frac{\\frac{ - \\left( \\frac{ - \\left( \\frac{ - \\left( \\frac{ - \\left( \\frac{ - \\left( \\frac{2 \\lambda^{2}}{1 + \\lambda} - 4 \\lambda \\right) \\lambda}{1 + \\frac{ - 4 \\lambda^{2}}{1 + \\lambda} + 5 \\lambda} - 4 \\lambda \\right) \\lambda}{1 + \\frac{ - \\left( \\frac{2 \\lambda^{2}}{1 + \\lambda} - 4 \\lambda \\right)^{2}}{1 + \\frac{ - 4 \\lambda^{2}}{1 + \\lambda} + 5 \\lambda} + \\frac{ - \\lambda^{2}}{1 + \\lambda} + 6 \\lambda} - 4 \\lambda \\right) \\lambda}{1 + \\frac{ - \\lambda^{2}}{1 + \\frac{ - 4 \\lambda^{2}}{1 + \\lambda} + 5 \\lambda} + \\frac{ - \\left( \\frac{ - \\left( \\frac{2 \\lambda^{2}}{1 + \\lambda} - 4 \\lambda \\right) \\lambda}{1 + \\frac{ - 4 \\lambda^{2}}{1 + \\lambda} + 5 \\lambda} - 4 \\lambda \\right)^{2}}{1 + \\frac{ - \\left( \\frac{2 \\lambda^{2}}{1 + \\lambda} - 4 \\lambda \\right)^{2}}{1 + \\frac{ - 4 \\lambda^{2}}{1 + \\lambda} + 5 \\lambda} + \\frac{ - \\lambda^{2}}{1 + \\lambda} + 6 \\lambda} + 6 \\lambda} - 4 \\lambda \\right) \\lambda}{1 + \\frac{ - \\lambda^{2}}{1 + \\frac{ - \\left( \\frac{2 \\lambda^{2}}{1 + \\lambda} - 4 \\lambda \\right)^{2}}{1 + \\frac{ - 4 \\lambda^{2}}{1 + \\lambda} + 5 \\lambda} + \\frac{ - \\lambda^{2}}{1 + \\lambda} + 6 \\lambda} + \\frac{ - \\left( \\frac{ - \\left( \\frac{ - \\left( \\frac{2 \\lambda^{2}}{1 + \\lambda} - 4 \\lambda \\right) \\lambda}{1 + \\frac{ - 4 \\lambda^{2}}{1 + \\lambda} + 5 \\lambda} - 4 \\lambda \\right) \\lambda}{1 + \\frac{ - \\left( \\frac{2 \\lambda^{2}}{1 + \\lambda} - 4 \\lambda \\right)^{2}}{1 + \\frac{ - 4 \\lambda^{2}}{1 + \\lambda} + 5 \\lambda} + \\frac{ - \\lambda^{2}}{1 + \\lambda} + 6 \\lambda} - 4 \\lambda \\right)^{2}}{1 + \\frac{ - \\lambda^{2}}{1 + \\frac{ - 4 \\lambda^{2}}{1 + \\lambda} + 5 \\lambda} + \\frac{ - \\left( \\frac{ - \\left( \\frac{2 \\lambda^{2}}{1 + \\lambda} - 4 \\lambda \\right) \\lambda}{1 + \\frac{ - 4 \\lambda^{2}}{1 + \\lambda} + 5 \\lambda} - 4 \\lambda \\right)^{2}}{1 + \\frac{ - \\left( \\frac{2 \\lambda^{2}}{1 + \\lambda} - 4 \\lambda \\right)^{2}}{1 + \\frac{ - 4 \\lambda^{2}}{1 + \\lambda} + 5 \\lambda} + \\frac{ - \\lambda^{2}}{1 + \\lambda} + 6 \\lambda} + 6 \\lambda} + 6 \\lambda} - 4 \\lambda \\right) \\lambda}{1 + \\frac{ - \\lambda^{2}}{1 + \\frac{ - \\lambda^{2}}{1 + \\frac{ - 4 \\lambda^{2}}{1 + \\lambda} + 5 \\lambda} + \\frac{ - \\left( \\frac{ - \\left( \\frac{2 \\lambda^{2}}{1 + \\lambda} - 4 \\lambda \\right) \\lambda}{1 + \\frac{ - 4 \\lambda^{2}}{1 + \\lambda} + 5 \\lambda} - 4 \\lambda \\right)^{2}}{1 + \\frac{ - \\left( \\frac{2 \\lambda^{2}}{1 + \\lambda} - 4 \\lambda \\right)^{2}}{1 + \\frac{ - 4 \\lambda^{2}}{1 + \\lambda} + 5 \\lambda} + \\frac{ - \\lambda^{2}}{1 + \\lambda} + 6 \\lambda} + 6 \\lambda} + \\frac{ - \\left( \\frac{ - \\left( \\frac{ - \\left( \\frac{ - \\left( \\frac{2 \\lambda^{2}}{1 + \\lambda} - 4 \\lambda \\right) \\lambda}{1 + \\frac{ - 4 \\lambda^{2}}{1 + \\lambda} + 5 \\lambda} - 4 \\lambda \\right) \\lambda}{1 + \\frac{ - \\left( \\frac{2 \\lambda^{2}}{1 + \\lambda} - 4 \\lambda \\right)^{2}}{1 + \\frac{ - 4 \\lambda^{2}}{1 + \\lambda} + 5 \\lambda} + \\frac{ - \\lambda^{2}}{1 + \\lambda} + 6 \\lambda} - 4 \\lambda \\right) \\lambda}{1 + \\frac{ - \\lambda^{2}}{1 + \\frac{ - 4 \\lambda^{2}}{1 + \\lambda} + 5 \\lambda} + \\frac{ - \\left( \\frac{ - \\left( \\frac{2 \\lambda^{2}}{1 + \\lambda} - 4 \\lambda \\right) \\lambda}{1 + \\frac{ - 4 \\lambda^{2}}{1 + \\lambda} + 5 \\lambda} - 4 \\lambda \\right)^{2}}{1 + \\frac{ - \\left( \\frac{2 \\lambda^{2}}{1 + \\lambda} - 4 \\lambda \\right)^{2}}{1 + \\frac{ - 4 \\lambda^{2}}{1 + \\lambda} + 5 \\lambda} + \\frac{ - \\lambda^{2}}{1 + \\lambda} + 6 \\lambda} + 6 \\lambda} - 4 \\lambda \\right)^{2}}{1 + \\frac{ - \\lambda^{2}}{1 + \\frac{ - \\left( \\frac{2 \\lambda^{2}}{1 + \\lambda} - 4 \\lambda \\right)^{2}}{1 + \\frac{ - 4 \\lambda^{2}}{1 + \\lambda} + 5 \\lambda} + \\frac{ - \\lambda^{2}}{1 + \\lambda} + 6 \\lambda} + \\frac{ - \\left( \\frac{ - \\left( \\frac{ - \\left( \\frac{2 \\lambda^{2}}{1 + \\lambda} - 4 \\lambda \\right) \\lambda}{1 + \\frac{ - 4 \\lambda^{2}}{1 + \\lambda} + 5 \\lambda} - 4 \\lambda \\right) \\lambda}{1 + \\frac{ - \\left( \\frac{2 \\lambda^{2}}{1 + \\lambda} - 4 \\lambda \\right)^{2}}{1 + \\frac{ - 4 \\lambda^{2}}{1 + \\lambda} + 5 \\lambda} + \\frac{ - \\lambda^{2}}{1 + \\lambda} + 6 \\lambda} - 4 \\lambda \\right)^{2}}{1 + \\frac{ - \\lambda^{2}}{1 + \\frac{ - 4 \\lambda^{2}}{1 + \\lambda} + 5 \\lambda} + \\frac{ - \\left( \\frac{ - \\left( \\frac{2 \\lambda^{2}}{1 + \\lambda} - 4 \\lambda \\right) \\lambda}{1 + \\frac{ - 4 \\lambda^{2}}{1 + \\lambda} + 5 \\lambda} - 4 \\lambda \\right)^{2}}{1 + \\frac{ - \\left( \\frac{2 \\lambda^{2}}{1 + \\lambda} - 4 \\lambda \\right)^{2}}{1 + \\frac{ - 4 \\lambda^{2}}{1 + \\lambda} + 5 \\lambda} + \\frac{ - \\lambda^{2}}{1 + \\lambda} + 6 \\lambda} + 6 \\lambda} + 6 \\lambda} + 6 \\lambda} - 2 \\lambda}{1 + \\frac{ - \\lambda^{2}}{1 + \\frac{ - \\lambda^{2}}{1 + \\frac{ - \\left( \\frac{2 \\lambda^{2}}{1 + \\lambda} - 4 \\lambda \\right)^{2}}{1 + \\frac{ - 4 \\lambda^{2}}{1 + \\lambda} + 5 \\lambda} + \\frac{ - \\lambda^{2}}{1 + \\lambda} + 6 \\lambda} + \\frac{ - \\left( \\frac{ - \\left( \\frac{ - \\left( \\frac{2 \\lambda^{2}}{1 + \\lambda} - 4 \\lambda \\right) \\lambda}{1 + \\frac{ - 4 \\lambda^{2}}{1 + \\lambda} + 5 \\lambda} - 4 \\lambda \\right) \\lambda}{1 + \\frac{ - \\left( \\frac{2 \\lambda^{2}}{1 + \\lambda} - 4 \\lambda \\right)^{2}}{1 + \\frac{ - 4 \\lambda^{2}}{1 + \\lambda} + 5 \\lambda} + \\frac{ - \\lambda^{2}}{1 + \\lambda} + 6 \\lambda} - 4 \\lambda \\right)^{2}}{1 + \\frac{ - \\lambda^{2}}{1 + \\frac{ - 4 \\lambda^{2}}{1 + \\lambda} + 5 \\lambda} + \\frac{ - \\left( \\frac{ - \\left( \\frac{2 \\lambda^{2}}{1 + \\lambda} - 4 \\lambda \\right) \\lambda}{1 + \\frac{ - 4 \\lambda^{2}}{1 + \\lambda} + 5 \\lambda} - 4 \\lambda \\right)^{2}}{1 + \\frac{ - \\left( \\frac{2 \\lambda^{2}}{1 + \\lambda} - 4 \\lambda \\right)^{2}}{1 + \\frac{ - 4 \\lambda^{2}}{1 + \\lambda} + 5 \\lambda} + \\frac{ - \\lambda^{2}}{1 + \\lambda} + 6 \\lambda} + 6 \\lambda} + 6 \\lambda} + \\frac{ - \\left( \\frac{ - \\left( \\frac{ - \\left( \\frac{ - \\left( \\frac{ - \\left( \\frac{2 \\lambda^{2}}{1 + \\lambda} - 4 \\lambda \\right) \\lambda}{1 + \\frac{ - 4 \\lambda^{2}}{1 + \\lambda} + 5 \\lambda} - 4 \\lambda \\right) \\lambda}{1 + \\frac{ - \\left( \\frac{2 \\lambda^{2}}{1 + \\lambda} - 4 \\lambda \\right)^{2}}{1 + \\frac{ - 4 \\lambda^{2}}{1 + \\lambda} + 5 \\lambda} + \\frac{ - \\lambda^{2}}{1 + \\lambda} + 6 \\lambda} - 4 \\lambda \\right) \\lambda}{1 + \\frac{ - \\lambda^{2}}{1 + \\frac{ - 4 \\lambda^{2}}{1 + \\lambda} + 5 \\lambda} + \\frac{ - \\left( \\frac{ - \\left( \\frac{2 \\lambda^{2}}{1 + \\lambda} - 4 \\lambda \\right) \\lambda}{1 + \\frac{ - 4 \\lambda^{2}}{1 + \\lambda} + 5 \\lambda} - 4 \\lambda \\right)^{2}}{1 + \\frac{ - \\left( \\frac{2 \\lambda^{2}}{1 + \\lambda} - 4 \\lambda \\right)^{2}}{1 + \\frac{ - 4 \\lambda^{2}}{1 + \\lambda} + 5 \\lambda} + \\frac{ - \\lambda^{2}}{1 + \\lambda} + 6 \\lambda} + 6 \\lambda} - 4 \\lambda \\right) \\lambda}{1 + \\frac{ - \\lambda^{2}}{1 + \\frac{ - \\left( \\frac{2 \\lambda^{2}}{1 + \\lambda} - 4 \\lambda \\right)^{2}}{1 + \\frac{ - 4 \\lambda^{2}}{1 + \\lambda} + 5 \\lambda} + \\frac{ - \\lambda^{2}}{1 + \\lambda} + 6 \\lambda} + \\frac{ - \\left( \\frac{ - \\left( \\frac{ - \\left( \\frac{2 \\lambda^{2}}{1 + \\lambda} - 4 \\lambda \\right) \\lambda}{1 + \\frac{ - 4 \\lambda^{2}}{1 + \\lambda} + 5 \\lambda} - 4 \\lambda \\right) \\lambda}{1 + \\frac{ - \\left( \\frac{2 \\lambda^{2}}{1 + \\lambda} - 4 \\lambda \\right)^{2}}{1 + \\frac{ - 4 \\lambda^{2}}{1 + \\lambda} + 5 \\lambda} + \\frac{ - \\lambda^{2}}{1 + \\lambda} + 6 \\lambda} - 4 \\lambda \\right)^{2}}{1 + \\frac{ - \\lambda^{2}}{1 + \\frac{ - 4 \\lambda^{2}}{1 + \\lambda} + 5 \\lambda} + \\frac{ - \\left( \\frac{ - \\left( \\frac{2 \\lambda^{2}}{1 + \\lambda} - 4 \\lambda \\right) \\lambda}{1 + \\frac{ - 4 \\lambda^{2}}{1 + \\lambda} + 5 \\lambda} - 4 \\lambda \\right)^{2}}{1 + \\frac{ - \\left( \\frac{2 \\lambda^{2}}{1 + \\lambda} - 4 \\lambda \\right)^{2}}{1 + \\frac{ - 4 \\lambda^{2}}{1 + \\lambda} + 5 \\lambda} + \\frac{ - \\lambda^{2}}{1 + \\lambda} + 6 \\lambda} + 6 \\lambda} + 6 \\lambda} - 4 \\lambda \\right)^{2}}{1 + \\frac{ - \\lambda^{2}}{1 + \\frac{ - \\lambda^{2}}{1 + \\frac{ - 4 \\lambda^{2}}{1 + \\lambda} + 5 \\lambda} + \\frac{ - \\left( \\frac{ - \\left( \\frac{2 \\lambda^{2}}{1 + \\lambda} - 4 \\lambda \\right) \\lambda}{1 + \\frac{ - 4 \\lambda^{2}}{1 + \\lambda} + 5 \\lambda} - 4 \\lambda \\right)^{2}}{1 + \\frac{ - \\left( \\frac{2 \\lambda^{2}}{1 + \\lambda} - 4 \\lambda \\right)^{2}}{1 + \\frac{ - 4 \\lambda^{2}}{1 + \\lambda} + 5 \\lambda} + \\frac{ - \\lambda^{2}}{1 + \\lambda} + 6 \\lambda} + 6 \\lambda} + \\frac{ - \\left( \\frac{ - \\left( \\frac{ - \\left( \\frac{ - \\left( \\frac{2 \\lambda^{2}}{1 + \\lambda} - 4 \\lambda \\right) \\lambda}{1 + \\frac{ - 4 \\lambda^{2}}{1 + \\lambda} + 5 \\lambda} - 4 \\lambda \\right) \\lambda}{1 + \\frac{ - \\left( \\frac{2 \\lambda^{2}}{1 + \\lambda} - 4 \\lambda \\right)^{2}}{1 + \\frac{ - 4 \\lambda^{2}}{1 + \\lambda} + 5 \\lambda} + \\frac{ - \\lambda^{2}}{1 + \\lambda} + 6 \\lambda} - 4 \\lambda \\right) \\lambda}{1 + \\frac{ - \\lambda^{2}}{1 + \\frac{ - 4 \\lambda^{2}}{1 + \\lambda} + 5 \\lambda} + \\frac{ - \\left( \\frac{ - \\left( \\frac{2 \\lambda^{2}}{1 + \\lambda} - 4 \\lambda \\right) \\lambda}{1 + \\frac{ - 4 \\lambda^{2}}{1 + \\lambda} + 5 \\lambda} - 4 \\lambda \\right)^{2}}{1 + \\frac{ - \\left( \\frac{2 \\lambda^{2}}{1 + \\lambda} - 4 \\lambda \\right)^{2}}{1 + \\frac{ - 4 \\lambda^{2}}{1 + \\lambda} + 5 \\lambda} + \\frac{ - \\lambda^{2}}{1 + \\lambda} + 6 \\lambda} + 6 \\lambda} - 4 \\lambda \\right)^{2}}{1 + \\frac{ - \\lambda^{2}}{1 + \\frac{ - \\left( \\frac{2 \\lambda^{2}}{1 + \\lambda} - 4 \\lambda \\right)^{2}}{1 + \\frac{ - 4 \\lambda^{2}}{1 + \\lambda} + 5 \\lambda} + \\frac{ - \\lambda^{2}}{1 + \\lambda} + 6 \\lambda} + \\frac{ - \\left( \\frac{ - \\left( \\frac{ - \\left( \\frac{2 \\lambda^{2}}{1 + \\lambda} - 4 \\lambda \\right) \\lambda}{1 + \\frac{ - 4 \\lambda^{2}}{1 + \\lambda} + 5 \\lambda} - 4 \\lambda \\right) \\lambda}{1 + \\frac{ - \\left( \\frac{2 \\lambda^{2}}{1 + \\lambda} - 4 \\lambda \\right)^{2}}{1 + \\frac{ - 4 \\lambda^{2}}{1 + \\lambda} + 5 \\lambda} + \\frac{ - \\lambda^{2}}{1 + \\lambda} + 6 \\lambda} - 4 \\lambda \\right)^{2}}{1 + \\frac{ - \\lambda^{2}}{1 + \\frac{ - 4 \\lambda^{2}}{1 + \\lambda} + 5 \\lambda} + \\frac{ - \\left( \\frac{ - \\left( \\frac{2 \\lambda^{2}}{1 + \\lambda} - 4 \\lambda \\right) \\lambda}{1 + \\frac{ - 4 \\lambda^{2}}{1 + \\lambda} + 5 \\lambda} - 4 \\lambda \\right)^{2}}{1 + \\frac{ - \\left( \\frac{2 \\lambda^{2}}{1 + \\lambda} - 4 \\lambda \\right)^{2}}{1 + \\frac{ - 4 \\lambda^{2}}{1 + \\lambda} + 5 \\lambda} + \\frac{ - \\lambda^{2}}{1 + \\lambda} + 6 \\lambda} + 6 \\lambda} + 6 \\lambda} + 6 \\lambda} + 5 \\lambda} & 1 \\\\\n",
       "\\end{array}\n",
       "\\right]\n",
       "\\end{equation}\n",
       " $$"
      ],
      "text/plain": [
       "8×8 Matrix{Num}:\n",
       "          1         …  0\n",
       " (-2λ) / (1.0 + λ)     0\n",
       "     λ / (1.0 + λ)     0\n",
       "          0.0          0\n",
       "          0.0          0\n",
       "          0.0       …  0\n",
       "          0.0          0\n",
       "          0.0          1"
      ]
     },
     "metadata": {},
     "output_type": "display_data"
    }
   ],
   "source": [
    "r = lu(M)\n",
    "## lu采用for循环的形式，\n",
    "r.L\n",
    "# r.U"
   ]
  }
 ],
 "metadata": {
  "kernelspec": {
   "display_name": "Julia 1.10.3",
   "language": "julia",
   "name": "julia-1.10"
  },
  "language_info": {
   "file_extension": ".jl",
   "mimetype": "application/julia",
   "name": "julia",
   "version": "1.10.3"
  }
 },
 "nbformat": 4,
 "nbformat_minor": 5
}
